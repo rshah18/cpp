{
 "cells": [
  {
   "cell_type": "markdown",
   "metadata": {},
   "source": [
    "# Standard template library (STL)"
   ]
  },
  {
   "cell_type": "markdown",
   "metadata": {},
   "source": [
    "## Template "
   ]
  },
  {
   "cell_type": "markdown",
   "metadata": {},
   "source": [
    "* Generic programming refers to the code that works independently of type \n",
    "* They operate on objects without concern for the type of those objects \n",
    "* type identifiers are replaced with actual when during compilation \n",
    "* When a function or class is used from a template, the compiler generates a specialization of that function or class, specially suited to the types specified in the instantiation. \n",
    "* this specialization is created at compile time. \n",
    "* one specialization is created for each template for each set of data types \n",
    "\n",
    "* Compilers tend to have difficult time generating sensible error messages with templates\n",
    "* Templates tend live in header files, changes to header file with templates can lead to recompilation of larger portions of your code. \n",
    "-------------------------------------------------------------------------------\n",
    "\n",
    "* C++ supports both template functions and template classes \n",
    "* template is implemented using \n",
    "    * template keyword\n",
    "    * template argument list \n",
    "* typename introduces a type alias \n",
    "* 'typename' is interchangeable with 'class', they means same thing \n",
    "* once declared, the typename alias can be used anywhere you use a type \n",
    "* \n",
    "\n",
    "* You can not define a template within a block \n",
    "\n",
    "*  When you invoke a template with a specific type the compiler creates a specialization for the template with that specific type. \n",
    "* the specialization is created at compile time. \n",
    "* The specialization is a copy of the function specially for a given set of types \n",
    "* templates do add size to object files\n",
    "\n",
    "* when calling the function, or variable with template. you name the variable followed by argument within arrow brackets \n",
    "* for every function, class, or variable using templates, you have to use the template keyword \n",
    "* \n",
    "--------------------------------------------------------------------------------\n",
    "#### Template variables \n",
    "* applicable after c++ 14\n",
    "\n",
    "#### template argument deduction \n",
    "* if the compiler can easily deduce the types, then you don't need to specify thema at all\n",
    "\n",
    "#### keywords\n",
    "* auto x; declares a type \n",
    "* decltype(x) y : meaning declared type. type of y is derived from x\n",
    "* typeid(var).name() gives type name, typeid is member of <typeinfo>\n",
    "\n",
    "\n",
    "\n",
    "\n",
    "\n",
    "\n",
    "\n"
   ]
  },
  {
   "cell_type": "markdown",
   "metadata": {},
   "source": [
    "```cpp\n",
    "//template function delcaration and calling \n",
    "template <typename T> \n",
    "T maxof(T a, T b){\n",
    "    return (a > b ? a:b);\n",
    "}\n",
    "... \n",
    "int m = maxof<int>(7,9); \n",
    "const char * mc = maxof <const char *> (\"nine\", \"seven\"); //COMPARING POINTERS \n",
    "printf(\"%s\", mc);\n",
    "\n",
    "//template variable\n",
    "template <typename T>\n",
    "constexpr T pi = T(3.141592653);\n",
    "cout << pi<double> << endl; \n",
    "\n",
    "template <typename T>\n",
    "T area(const T & r){\n",
    "    return r*r*pi<T>; \n",
    "} \n",
    "... \n",
    "area<double>(3); \n",
    "\n",
    "//using auto \n",
    "//begin retunrs an iterator, auto declares the type of the iterator by infering from sclass.begin()\n",
    "for(auto it = sclass.begin(); it = sclass.end(); ++it){\n",
    "    cout << *it << \" \"; \n",
    "}\n",
    "    or\n",
    "//auto gets the type of the elements of the container \n",
    "for(auto c: sclass) {\n",
    "    cout << c << \" \"; \n",
    "}\n",
    "    \n",
    "//template function \n",
    "//auto is used to derive the return type from the function \n",
    "template <typename T, typename s>\n",
    "auto tf(const lt & lhs, const rt & rhs) {\n",
    "    return lhs + rhs; \n",
    "}\n",
    "...\n",
    "auto z = tf< string, const char *>(sclass, ctr); \n",
    "cout << \"type of z is\" << typeid(z).name() << endl; \n",
    "\n",
    "```"
   ]
  },
  {
   "cell_type": "markdown",
   "metadata": {},
   "source": [
    "## Containers"
   ]
  },
  {
   "cell_type": "markdown",
   "metadata": {},
   "source": [
    "#### Pair "
   ]
  },
  {
   "cell_type": "markdown",
   "metadata": {},
   "source": [
    "* pair type is in the <utility> header\n",
    "* it is useful for carrying a pair of strongly typed values\n",
    "* you can use comparasion operators, it compares both values but first values is given more priority\n"
   ]
  },
  {
   "cell_type": "markdown",
   "metadata": {},
   "source": [
    "```cpp\n",
    "#include<cstdio>\n",
    "#include<iostream>\n",
    "#include<utility>\n",
    "#include<string>\n",
    "using namespace std; \n",
    "\n",
    "template <typename t1, typename t2>\n",
    "void printpair(pair <t1, t2> & p){\n",
    "    cout << p.first << \" : \" << p.second << endl; \n",
    "}\n",
    "int main(){\n",
    "    pair < int, string> p1 = {47, \"forty-seven\"}; \n",
    "    printpair(p1);  \n",
    "\n",
    "    pair <int, string> p2(72, \"seventy-two\");\n",
    "    printpair(p2);\n",
    "\n",
    "    pair <int, string> p3; \n",
    "    p3 = make_pair(7, \"seven\");\n",
    "    printpair(p3);\n",
    "    \n",
    "    return 0;   \n",
    "\n",
    "}\n",
    "\n",
    "```"
   ]
  },
  {
   "cell_type": "markdown",
   "metadata": {},
   "source": [
    "#### Tuples "
   ]
  },
  {
   "cell_type": "markdown",
   "metadata": {},
   "source": [
    "* include (tuple) header \n",
    "* like pair, but with 3 values "
   ]
  },
  {
   "cell_type": "markdown",
   "metadata": {},
   "source": [
    "```cpp\n",
    "#include<cstdio>\n",
    "#include<iostream>\n",
    "#include<tuple>\n",
    "#include<string>\n",
    "using namespace std; \n",
    "\n",
    "template <typename T>\n",
    "void printt(T t){\n",
    "    auto tsz = tuple_size(t)>::value; \n",
    "    if(tsz != 3) return; \n",
    "    cout << get<0> (t) << \": \" get<1>(t) << \": \" get<2>(t) << endl; \n",
    "}\n",
    "\n",
    "int main(){\n",
    "\n",
    "    tuple <int, string, int> t1 = {47, \"fourty-seven\", 1}; \n",
    "    printt(t1);\n",
    "    return 0;   \n",
    "\n",
    "}\n",
    "```"
   ]
  },
  {
   "cell_type": "markdown",
   "metadata": {},
   "source": [
    "#### Array"
   ]
  },
  {
   "cell_type": "markdown",
   "metadata": {},
   "source": [
    "* uses array header\n",
    "* fixed size stl container\n",
    "\n",
    "```cpp\n",
    "array <int, 5> arr = {1,2,3,4,5};\n",
    "arr.size();\n",
    "arr.at(3);\n",
    "arr.data(); //returns the underlying array \n",
    "```"
   ]
  },
  {
   "cell_type": "markdown",
   "metadata": {},
   "source": [
    "#### Deque "
   ]
  },
  {
   "cell_type": "markdown",
   "metadata": {},
   "source": [
    "* it is like vector but it is optimized as a double ended queue, \n",
    "* include header deque \n",
    "* vector is optimized for random access, a deque is optimized for rapid push and pop from its ends\n",
    "* it is default container for stack and queues \n",
    "* functions: \n",
    "    * d.front()\n",
    "    * d.back()\n",
    "    * d.push_back()\n",
    "    * d.pop_front()\n",
    "    * d.pop_back()\n",
    "    * d.push_front()\n",
    "    * "
   ]
  },
  {
   "cell_type": "markdown",
   "metadata": {},
   "source": [
    "```cpp\n",
    "#include<cstdio>\n",
    "#include<iostream>\n",
    "#include<string>\n",
    "#include<deque>\n",
    "using namespace std; \n",
    "\n",
    "template <typename T>\n",
    "void reportdeque(T & d){\n",
    "    size_t sz = d.size(); \n",
    "    cout << \"size: \" << sz; \n",
    "    if(sz) cout << \"front: \" << d.front() << \"back: \" << d.back(); \n",
    "    cout << endl; \n",
    "}\n",
    "\n",
    "template <typename T>\n",
    "void printdeq(T & d){\n",
    "    if(d.empty()) return; \n",
    "    for(auto v : d) cout << v << \" \"; \n",
    "    cout << endl; \n",
    "}\n",
    "\n",
    "int main(){\n",
    "\n",
    "    deque<string> d1 = {\"one \", \"two\", \"three\"}; \n",
    "    printdeq(d1);\n",
    "    reportdeque(d1);\n",
    "\n",
    "    d1.push_back(\"four\");\n",
    "    d1.push_front(\"zero\");\n",
    "    printdeq(d1);\n",
    "\n",
    "    d1.pop_back();\n",
    "    d1.pop_front();\n",
    "    printdeq(d1);\n",
    "      \n",
    "    return 0;   \n",
    "\n",
    "}\n",
    "-------------------------------------------------------------------\n",
    "one  two three \n",
    "size: 3front: one back: three\n",
    "zero one  two three four \n",
    "one  two three \n",
    "```\n"
   ]
  },
  {
   "cell_type": "markdown",
   "metadata": {},
   "source": [
    "#### Queue "
   ]
  },
  {
   "cell_type": "markdown",
   "metadata": {},
   "source": [
    "* A queue is a container adaptor which is like a wrapper that uses an underlying container to hold its elements. \n",
    "* The queue implements a first-in-first-out queue where elements are pushed onto the back of the container and popped from the front.\n",
    "* use queue header \n",
    "* we use other containers for it like list, deque and vectors as underlying containers for queue \n",
    "* queue is not a random access container \n",
    "* functions: \n",
    "    * size,\n",
    "    * front\n",
    "    * back\n",
    "    * empty\n",
    "    * pop \n",
    "    * push \n",
    "    * size, \n",
    "    * swap \n",
    "* it pops from front, but pushes to back \n",
    "* it uses deque by default, if no container is provided \n",
    "\n",
    "```cpp\n",
    "    //constructing a queue from a list as underlying container \n",
    "    list< int > l1 = {1,2,3,4,5,6}; \n",
    "    queue< int, list<int> > q1(l1); //constructor copies to new list \n",
    "    printf(\"%d\\n\", q1.front());\n",
    "    printf(\"%d\\n\", q1.back());\n",
    "    printf(\"%d\\n\", (int)q1.size());\n",
    "    q1.pop(); \n",
    "    printf(\"%d\\n\", (int)q1.size());\n",
    "    printf(\"%d\\n\", q1.back());\n",
    "    printf(\"%d\\n\", q1.front());\n",
    "    q1.push(10);\n",
    "    printf(\"%d\\n\", q1.front());\n",
    "    printf(\"%d\\n\", q1.back());\n",
    "     \n",
    "```"
   ]
  },
  {
   "cell_type": "markdown",
   "metadata": {},
   "source": [
    "#### Set "
   ]
  },
  {
   "cell_type": "markdown",
   "metadata": {},
   "source": [
    "* A set is a container that holds sorted set of elements \n",
    "* it holds sorted and unique list of elements \n",
    "* use the header 'set'\n",
    "* the set class holds only unique elements \n",
    "* multiset class allows duplicates other than that its same as set \n",
    "* the header 'unordered_set' does not sort elements and instead provides hashed keys for faster access.\n",
    "* there is 'unordered_multiset' \n",
    "* functions:\n",
    "    * size \n",
    "    * insert(val) \n",
    "    * find\n",
    "    * erase \n",
    "\n",
    "```cpp\n",
    "#include<cstdio>\n",
    "#include<iostream>\n",
    "#include<string>\n",
    "#include<set>\n",
    "#include<unordered_set> \n",
    "using namespace std; \n",
    "//print elements of set \n",
    "template <typename T>\n",
    "void print_set(T & s){\n",
    "    if(s.empty()) return; \n",
    "    for(auto x: s) cout << x << \" \"; \n",
    "    cout << endl; \n",
    "}\n",
    "\n",
    "int main(){\n",
    "    //declaring set of type string \n",
    "    set<string> s1 = {\"one\", \"two\", \"three\", \"four\"};\n",
    "    print_set(s1);\n",
    "    s1.insert(\"five\");\n",
    "    print_set(s1);\n",
    "    //find and erase. \n",
    "    set<string>::iterator it = s1.find(\"three\");\n",
    "    if(it != s1.end()){\n",
    "        cout << \"erasing\" << *it << endl; \n",
    "        s1.erase(it); \n",
    "    }else{\n",
    "        cout << \"not found\";\n",
    "    }\n",
    "    print_set(s1);\n",
    "    //check for uniqueness \n",
    "    set<int> s3 = {34,53,2,3,1,2,3,4,5,3,3,3};\n",
    "    print_set(s3);\n",
    "    //multiset \n",
    "    multiset<int> ms = {1,2,1,2,3}; //sorted but allow duplicates \n",
    "    print_set(ms);\n",
    "    //unordered_set \n",
    "    unordered_set <int> us = {1,1,2,3,4,2,13,4,2123,4,2};\n",
    "    print_set(us);\n",
    "    return 0;   \n",
    "\n",
    "}\n",
    "```\n"
   ]
  },
  {
   "cell_type": "markdown",
   "metadata": {},
   "source": [
    "#### Maps"
   ]
  },
  {
   "cell_type": "markdown",
   "metadata": {},
   "source": [
    "* use 'map' header\n",
    "* the map class provides a sorted set of key-value pairs like an associative array\n",
    "* Each of the elements in a map is a pair \n",
    "* keys are unique \n",
    "* insert will fail if the same key exists already in the pairs\n"
   ]
  },
  {
   "cell_type": "markdown",
   "metadata": {},
   "source": [
    "```cpp\n",
    "#include<cstdio>\n",
    "#include<iostream>\n",
    "#include<string>\n",
    "#include<map>\n",
    "#include<typeinfo>\n",
    "using namespace std; \n",
    "\n",
    "//print map pairs \n",
    "template <typename T1, typename T2>\n",
    "void print_pair(pair<T1, T2> & p){\n",
    "    cout << p.first << \":\" << p.second << endl; \n",
    "}\n",
    "//print elements of map \n",
    "template <typename T> \n",
    "void print_map(T & m){\n",
    "    if(m.empty())return; \n",
    "    for(auto x: m) print_pair(x);\n",
    "    cout<< endl; \n",
    "}\n",
    "// print a simple message \n",
    "void message(const char *m) {cout << m << endl;}\n",
    "template <typename T> \n",
    "void message(const char * m, const T & v){\n",
    "    cout << m << \":\" << v << endl; \n",
    "}\n",
    "int main(){\n",
    "    map<string, string> mapstr =  {{\"he\", \"her\"}, {\"she\", \"he\"}, {\"me\", \"self\"}};\n",
    "    print_map(mapstr);\n",
    "    message(\"size\",mapstr.size() );\n",
    "    //accessing subscript, at, find \n",
    "    message(\"he\", mapstr[\"he\"]);\n",
    "    message(\"she\", mapstr.at(\"she\"));\n",
    "    message(\"me\", mapstr.find(\"me\")->second);\n",
    "    //inserting \n",
    "    mapstr.insert({\"them\", \"themselves\"});\n",
    "    mapstr.insert({\"maya\", \"castellenos\"}); \n",
    "    auto rp = mapstr.insert({\"Natalie\", \"portman\"}); \n",
    "    if(rp.second){\n",
    "        message(\"insertion successful\");\n",
    "        print_pair(*rp.first);\n",
    "    }else{\n",
    "        message(\"insert failed\"); \n",
    "    }\n",
    "    //multimap \n",
    "    //duplicates are allowed \n",
    "    multimap<string, string> mm = {{\"ravi\", \"shah\"}, {\"ravi\", \"shah\"}};\n",
    "    print_map(mm);\n",
    "    //erase in multimap\n",
    "    auto it = mm.find(\"ravi\"); \n",
    "    if(it != mm.end()){\n",
    "        print_pair(*it); \n",
    "        mm.erase(it);\n",
    "        cout << typeid(it).name(); \n",
    "    }else{\n",
    "        message(\"not found\");\n",
    "    }\n",
    "    return 0;   \n",
    "}\n",
    "```"
   ]
  },
  {
   "cell_type": "markdown",
   "metadata": {},
   "source": [
    "## Iterators \n"
   ]
  },
  {
   "cell_type": "markdown",
   "metadata": {},
   "source": [
    "* An iterator is an STL object that can iterate through the elements of a container.\n",
    "* An iterator acts a lot like a pointer.\n",
    "* it can be incremented and de-referenced as a pointer\n",
    "\n",
    "* the iterator class is defined in the scope of the container class, it is accessed using the scope operator \n",
    "* the type of the iterator is bound to be the type of the class\n",
    "* Iterators come in 5 different flavors:\n",
    "    1. input iterator \n",
    "    2. output iterator \n",
    "    3. forward iterator \n",
    "    4. bidirectional iterator \n",
    "    5. random access iterator \n",
    "* Each of these flavor have different properties and capabilities according to their associated containers \n",
    "* The type of iterators are not exclusive \n",
    "\n",
    "\n",
    "```cpp\n",
    "    vector<int> v1 = {1,2,3,4,5,6,7,8,9,10};\n",
    "    vector<int>::iterator it1; //iterator object \n",
    "    \n",
    "    vector<int>::iterator ibegin = v1.begin();\n",
    "    vector<int>::iterator iend = v1.end(); \n",
    "\n",
    "    //can also use\n",
    "    auto ibegin = v1.begin();\n",
    "    auto iend = v1.end();\n",
    "    \n",
    "    //can also use auto in front of it1 \n",
    "    for(it1 = ibegin; it1 < iend; ++it1){\n",
    "        cout << *it1 << \" \"; \n",
    "    }\n",
    "------------------------------------------------\n",
    "    1 2 3 4 5 6 7 8 9 10 \n",
    "```"
   ]
  },
  {
   "cell_type": "markdown",
   "metadata": {},
   "source": [
    "#### Input iterator "
   ]
  },
  {
   "cell_type": "markdown",
   "metadata": {},
   "source": [
    "* An input iterator is the simplest form of iterator \n",
    "* It may be used to read values of the object and increment\n",
    "* it is capable of reading not writing, incrementing but not decrementing \n",
    "* once a value is read, it cannot be read again,\n",
    "\n",
    "* the iostream object uses an input iterator for cin\n",
    "\n",
    "```cpp\n",
    "#include<cstdio>\n",
    "#include<iostream>\n",
    "#include<string>\n",
    "#include<vector>\n",
    "#include<iterator>\n",
    "using namespace std; \n",
    "\n",
    "void message(const char * m ){ cout << m << endl;}\n",
    "\n",
    "int main(){\n",
    "    double d1 = 0, d2 = 0; \n",
    "    cout << \"Two numeric values \" << flush; \n",
    "    cin.clear(); \n",
    "    istream_iterator <double> eos; // default contructor is end of stream\n",
    "    istream_iterator <double> iit(cin);\n",
    "    if(iit == eos){\n",
    "        message(\"no values\");\n",
    "        return 0; \n",
    "    } else {\n",
    "        d1 = *iit++; \n",
    "    }\n",
    "    if(iit == eos){\n",
    "        message(\"no values\");\n",
    "        return 0; \n",
    "    }\n",
    "    else {\n",
    "        d2 = *iit; \n",
    "    }\n",
    "    //read two values from standard in, cin\n",
    "    cin.clear(); \n",
    "    cout << d1 << \" * \" << d2 << \"=\" << d1 *d2 << endl; \n",
    "    return 0;   \n",
    "}\n",
    "```"
   ]
  },
  {
   "cell_type": "markdown",
   "metadata": {},
   "source": [
    "#### Output iterator "
   ]
  },
  {
   "cell_type": "markdown",
   "metadata": {},
   "source": [
    "* Output iterator is a compliment of the input iterator \n",
    "* it may be used to write a value once and then increment \n",
    "* The iterator is used just like a pointer, but only for output \n",
    "* assigned values are sent to the output stream. \n",
    "\n",
    "\n",
    "```cpp\n",
    "int main(){\n",
    "    ostream_iterator<int> output(cout, \" \");\n",
    "    for(int i : {3,9,144}){\n",
    "        *output++ = i ; \n",
    "    }\n",
    "    cout << endl; \n",
    "    return 0;   \n",
    "}\n",
    "----------------------------------------\n",
    "3 9 144 \n",
    "```"
   ]
  },
  {
   "cell_type": "markdown",
   "metadata": {},
   "source": [
    "#### Forward iterator "
   ]
  },
  {
   "cell_type": "markdown",
   "metadata": {},
   "source": [
    "* The forward iterator is like a combination of input and output iterator. "
   ]
  },
  {
   "cell_type": "code",
   "execution_count": null,
   "metadata": {},
   "outputs": [],
   "source": []
  },
  {
   "cell_type": "markdown",
   "metadata": {},
   "source": [
    "## Algorithm header "
   ]
  },
  {
   "cell_type": "markdown",
   "metadata": {},
   "source": [
    "#### Testing conditions "
   ]
  },
  {
   "cell_type": "markdown",
   "metadata": {},
   "source": [
    "* all_of()\n",
    "    * tests all of the elements in a container against a predicate \n",
    "    * if all cases are true, then it returns true or false \n",
    "* any_of():\n",
    "    * returns true if any case is true \n",
    "* none_of():\n",
    "    * returns true if all cases are false \n",
    "* they take two iterators begin and end and a predicate function \n",
    "\n",
    "```cpp\n",
    "#include<cstdio>\n",
    "#include<iostream>\n",
    "#include<string>\n",
    "#include<vector>\n",
    "#include<algorithm>\n",
    "#include<functional> \n",
    "\n",
    "using namespace std; \n",
    "\n",
    "template<typename T>\n",
    "const bool is_prime(const T & num){\n",
    "    if(num<=1) return false; \n",
    "    bool primeflag = true; \n",
    "    for(T l=2; l <num; ++l){\n",
    "        if(num % l == 0){\n",
    "            primeflag = false; \n",
    "            break; \n",
    "        }\n",
    "    }\n",
    "    return primeflag; \n",
    "}\n",
    "\n",
    "template <typename T>\n",
    "void printv(T & v){\n",
    "    if(v.empty()) return;\n",
    "    for(auto s: v){\n",
    "        cout << s << \" \"; \n",
    "    }\n",
    "}\n",
    "\n",
    "int main(){\n",
    "    \n",
    "    vector<int> v1 = {2, 3,4, 7, 13, 17, 31, 37, 41, 43, 47, 71, 73, 79, 83, 89, 97};\n",
    "    printv(v1);\n",
    "    \n",
    "    if(all_of( v1.begin(), v1.end(), is_prime<int>)){\n",
    "        cout << \"true\" << endl; \n",
    "    } else{\n",
    "        cout << \"false\" << endl;\n",
    "    }\n",
    "\n",
    "    return 0;   \n",
    "}\n",
    "```"
   ]
  },
  {
   "cell_type": "markdown",
   "metadata": {},
   "source": [
    "#### Searching and counting "
   ]
  },
  {
   "cell_type": "markdown",
   "metadata": {},
   "source": [
    "* find(v.begin(), v.end(), val); \n",
    "    * find performs a sequential search using the equal to comparison,\n",
    "    * if the compared value is found, it returns an iterator pointing to that value, \n",
    "    * if the value is not found, it returns the end point iterator. \n",
    "* find_if(v.begin(), v.end(), predicate_func); returns iterator to the the first value that meets the condition\n",
    "* find_if_not(...) returns iterator to the fist value that doesn't meet the condition \n",
    "* search(v1.begin(), v1.end(), v2.begin(), v2.end()) searches for second range within first range \n",
    "    * returns the iterator to where the second range begins in the first range \n",
    "* count(v.begin(), v.end(), val); returns the number of occurances of val in vector v.\n",
    "    * count_if(v.begin(), v.end(), pred_func); finds occurance based on condition "
   ]
  },
  {
   "cell_type": "markdown",
   "metadata": {},
   "source": [
    "#### Replacing and removing "
   ]
  },
  {
   "cell_type": "markdown",
   "metadata": {},
   "source": [
    "* replace(v.begin(), v.end(), val1, val2); replaces val1 with val2 in vector v. \n",
    "* replace_if(v1.begin(), v1.end(), pred_func, val); replaces the values met with condition with val \n",
    "* remove(v.begin(), v.end(), 42); returns an iterator to element just passed the number that was not removed. \n",
    "    * if the itertor returned is v.end(), element was not removed \n",
    "* remove_if(...) \n",
    "* unique(v.begin(), v.end()) removes consecutive duplicates from the range \n"
   ]
  },
  {
   "cell_type": "markdown",
   "metadata": {},
   "source": [
    "#### Modifying algorithm "
   ]
  },
  {
   "cell_type": "markdown",
   "metadata": {},
   "source": [
    "* copy(v1.begin(), v1.end(), v2.begin()) copies v1 to existing vector v2 of same size \n",
    "* copy_n(v1.begin, num_to_copy, v2.begin()); copies first n items\n",
    "* copy_backward(v1.begin(), v1.end(), v2.end()); copies in same order but from back to front, obviously faster\n",
    "* reverse_copy(v1.begin(), v1.end(), v2.begin()); copies in reverse order \n",
    "* reverse(v.begin(), v.end()); simply reverses the vector v in place. uses swap function to do that \n",
    "* fill(v1.begin(), v1.end()-10, 100); fill first 10 elements with 100\n",
    "* fill_n(v1.begin(), 15, 100); fill first 15 with 100\n",
    "* generate(...) generates numbers in vectors\n",
    "* random_shuffle(v.begin(), v.end()) ; shuffle elements in place "
   ]
  },
  {
   "cell_type": "markdown",
   "metadata": {},
   "source": [
    "#### Partition "
   ]
  },
  {
   "cell_type": "markdown",
   "metadata": {},
   "source": [
    "* partition(v1.begin(), v1.end(), is_even_tens<int>); sorts based on condition \n",
    "\n",
    "```cpp\n",
    "#include<cstdio>\n",
    "#include<iostream>\n",
    "#include<string>\n",
    "#include<vector>\n",
    "#include<algorithm>\n",
    "\n",
    "\n",
    "using namespace std; \n",
    "\n",
    "\n",
    "template <typename T>\n",
    "bool is_even_tens(T & n){\n",
    "    if(n<10) return false; \n",
    "    return( (n/10) % 2 ) == 0; \n",
    "}\n",
    "\n",
    "template<typename T> \n",
    "void disp_v(const T & v){\n",
    "    if(!v.size()) return; \n",
    "    for(auto e: v) {cout << e << \" \"; } \n",
    "    cout<<endl;\n",
    "}\n",
    "\n",
    "int main(){\n",
    "    \n",
    "    //vector<int> v1 = {2, 3,4, 7, 13, 17, 31, 37, 41, 43, 47, 71, 73, 79, 83, 89, 97};\n",
    "    vector<int> v1(10,0) ;\n",
    "    generate(v1.begin(), v1.end(), []()-> int {return rand() % 100;});\n",
    "    disp_v(v1);\n",
    "\n",
    "    partition(v1.begin(), v1.end(), is_even_tens<int>); \n",
    "    disp_v(v1);\n",
    "    stable_partition(v1.begin(), v1.end(), is_even_tens<int>); \n",
    "    disp_v(v1);\n",
    "    return 0;   \n",
    "}\n",
    "\n",
    "```"
   ]
  },
  {
   "cell_type": "markdown",
   "metadata": {},
   "source": [
    "#### Sorting"
   ]
  },
  {
   "cell_type": "markdown",
   "metadata": {},
   "source": [
    "* sort(v.begin(), v.end()); sorts a vector \n",
    "* sorting within a function doesnt pass over if not using with references \n",
    "* sort(v.begin(), v.end(), predic_func); sort based on given algorithm \n",
    "* pred_func often return bool values \n",
    "* merge(v1.begin(), v1.end(), v2.begin(), v2.end(), v3.begin()); merges v1 and v2 into to an existing v3 of size v1+v2\n",
    "    * they also get sorted \n",
    "    * we can add pred_func to sort and merge to apply same sorting and merging condition \n",
    "\n",
    "```cpp\n",
    "template <typename T>\n",
    "bool mycomp(const T & lh, const T & rh){\n",
    "    return lh < rh; \n",
    "}\n",
    "\n",
    "sort(v1.begin(), v1.end(), mycomp<int> )\n",
    "```"
   ]
  },
  {
   "cell_type": "markdown",
   "metadata": {},
   "source": [
    "#### Binary_search"
   ]
  },
  {
   "cell_type": "markdown",
   "metadata": {},
   "source": [
    "* binary_search(v.begin(), v.end(), n ); performs a binary search on a sorted container\n",
    "* lower_bound(v.begin(), v.end(), n); returns an iterator to the first value it finds that is n.\n",
    "* upper_boud(v.begin(), v.end(), n); returns an iterator to the value after last value it finds that is n.\n",
    "* equal_range(v.begin(), v.end(), n); returns a pair for upper and lower bound, as pair.first, and pair.second \n"
   ]
  },
  {
   "cell_type": "markdown",
   "metadata": {},
   "source": [
    "#### Lambda"
   ]
  },
  {
   "cell_type": "markdown",
   "metadata": {},
   "source": [
    "* lambda is an anonymous function, a function without a name\n",
    "* c++ doesnot allow function definition inside another function, use lambda for that \n",
    "* A closure is an encapsulated block of code \n",
    "* A lambda function creates a closure\n",
    "* closure decides which values outside lambda must be available within the function and how they will be accessed.\n",
    "\n",
    "```cpp\n",
    "[var] = capture var by value \n",
    "[&var] = capture var by reference \n",
    "[=]  = capture all variables by value\n",
    "[&] = capture all variables by reference \n",
    "[&, var] = capture all by reference, except capture var by value \n",
    "[&var, var2] = capture var by reference, and var2 by value.\n",
    "    \n",
    "```\n",
    "* When you assign or pass a lambda, you are passing a closure. \n",
    "* the square brackets are closures, \n",
    "* following closure are argument list, \n",
    "* then after arrow, the return type \n",
    "* 'mutable->' makes pass by value to allow changes by lambda function \n",
    "\n",
    "```cpp\n",
    "[](const char & c)-> char { //function stuff } \n",
    "[](const char & c) mutable-> char { //function stuff } \n",
    "    \n",
    "```\n"
   ]
  },
  {
   "cell_type": "markdown",
   "metadata": {},
   "source": [
    "#### Predicate function"
   ]
  },
  {
   "cell_type": "markdown",
   "metadata": {},
   "source": [
    "* they return true or false \n",
    "* all predicate functions have bool return type \n",
    "\n",
    "    "
   ]
  },
  {
   "cell_type": "markdown",
   "metadata": {},
   "source": [
    "```cpp\n",
    "    // simple rotation to the left\n",
    "    std::rotate(v.begin(), v.begin() + 1, v.end());\n",
    "\n",
    "    // simple rotation to the right\n",
    "    std::rotate(v.rbegin(), v.rbegin() + 1, v.rend());\n",
    "\n",
    "    0 1 2 2 3 4 5 7 7 10\n",
    "    simple rotate left  : 1 2 2 3 4 5 7 7 10 0 \n",
    "    simple rotate right : 0 1 2 2 3 4 5 7 7 10\n",
    "```"
   ]
  },
  {
   "cell_type": "markdown",
   "metadata": {},
   "source": [
    "* sort(first_iterator, last_iterator) – To sort the given vector.\n",
    "* reverse(first_iterator, last_iterator) – To reverse a vector.\n",
    "* *max_element (first_iterator, last_iterator) – To find the maximum element of a vector.\n",
    "* *min_element (first_iterator, last_iterator) – To find the minimum element of a vector.\n",
    "* accumulate(first_iterator, last_iterator, initial value of sum) – Does the summation of vector elements\n",
    "* count(first_iterator, last_iterator,x) – To count the occurrences of x in vector.\n",
    "* find(first_iterator, last_iterator, x) – Points to last address of vector ((name_of_vector).end()) if element is not present in vector.\n",
    "* binary_search(first_iterator, last_iterator, x) – Tests whether x exists in sorted vector or not.\n",
    "* lower_bound(first_iterator, last_iterator, x) – returns an iterator pointing to the first element in the range [first,last) which has a value not less than ‘x’.\n",
    "* upper_bound(first_iterator, last_iterator, x) – returns an iterator pointing to the first element in the range [first,last) which has a value greater than ‘x’.\n",
    "* arr.erase(position to be deleted) – This erases selected element in vector and shifts and resizes the vector elements accordingly.\n",
    "* arr.erase(unique(arr.begin(),arr.end()),arr.end()) – This erases the duplicate occurrences in sorted vector in a single line.\n",
    "* distance(first_iterator,desired_position) – It returns the distance of desired position from the first iterator.This function is very useful while finding the index.\n",
    "* "
   ]
  },
  {
   "cell_type": "markdown",
   "metadata": {},
   "source": [
    "#### map \n",
    " \n",
    "```cpp\n",
    "    map<int, string> num;\n",
    "    num[1] = \"one\";\n",
    "    num[2] = \"two\";\n",
    "    num[3] = \"three\";\n",
    "    num[4] = \"four\";\n",
    "    num[5] = \"five\";\n",
    "\n",
    "    num.insert(pair<int, string>(6, \"six\"));  \n",
    "\n",
    "    cout << \"map size is\" << num.size() << endl; \n",
    "\n",
    "    for(map<int,string>::iterator it = num.begin(); it != num.end(); it++){\n",
    "        cout << it->first << \" \" << it->second << endl; \n",
    "    }\n",
    "\n",
    "    map<int, string>::iterator f = num.find(5);\n",
    "    cout<< \"key found\" << f->second << endl;\n",
    "```\n"
   ]
  },
  {
   "cell_type": "markdown",
   "metadata": {},
   "source": [
    "#### stack and queue\n",
    "\n",
    "```cpp\n",
    "    stack<int> st, it;\n",
    "    st.push(10);\n",
    "    st.push(12);\n",
    "    st.push(15);\n",
    "    cout << st.top() << endl;\n",
    "    st.pop();\n",
    "    it = st; \n",
    "    \n",
    "    while(!it.empty()){\n",
    "        cout << it.top() << endl; \n",
    "        it.pop();\n",
    "    }\n",
    "\n",
    "    queue<int> que, it1;\n",
    "    que.push(3);\n",
    "    que.push(5);\n",
    "    que.push(7);\n",
    "    que.push(9);\n",
    "        \n",
    "    cout << \"Size of queue\" << que.size() << endl;\n",
    "    cout << \"front of queue\" << que.front() <<endl; \n",
    "    cout << \"back of queue\" << que.back() << endl; \n",
    "\n",
    "    it1  = que;\n",
    "    while(!it1.empty()){\n",
    "        cout<< it1.front() << endl; \n",
    "        it1.pop(); \n",
    "    }\n",
    "```"
   ]
  },
  {
   "cell_type": "markdown",
   "metadata": {},
   "source": [
    "## Unordered_map\n",
    "* unordered_map is an associated container that stores elements formed by combination of key value and a mapped value.\n",
    "* Both key and value can be of any type predefined or user-defined.\n",
    "* an average the cost of search, insert and delete from hash table is O(1). \n",
    "* at(): This function in C++ unordered_map returns the reference to the value with the element as key k.\n",
    "Syntax\n",
    "* begin(), end()\n",
    "* bucket(): Returns the bucket number where the element with the key k is located in the map.\n",
    "* bucket_count: bucket_count is used to count the total no. of buckets in the unordered_map. No parameter is required to pass into this function.\n",
    "* bucket_size: Returns number of elements in each bucket of the unordered_map."
   ]
  },
  {
   "cell_type": "markdown",
   "metadata": {},
   "source": [
    "```cpp\n",
    " unordered_map<string, int> umap;\n",
    "    umap[\"GeeksforGeeks\"] = 10; \n",
    "    umap[\"Practice\"] = 20; \n",
    "    umap[\"Contribute\"] = 30; \n",
    "// inserting value by insert function \n",
    "    umap.insert(make_pair(\"e\", 2.718)); \n",
    "\n",
    "    // If key not found in map iterator to end is returned \n",
    "     string key = \"PI\"; \n",
    "    if (umap.find(key) == umap.end()) \n",
    "        cout << key << \" not found\\n\\n\"; \n",
    "\n",
    "//    iterating over all value of umap \n",
    "    unordered_map<string, double>:: iterator itr; \n",
    "    cout << \"\\nAll Elements : \\n\"; \n",
    "    for (itr = umap.begin(); itr != umap.end(); itr++) \n",
    "    { \n",
    "        // itr works as a pointer to pair<string, double> \n",
    "        // type itr->first stores the key part  and  // itr->second stroes the value part \n",
    "        cout << itr->first << \"  \" << itr->second << endl; \n",
    "     } \n",
    "```"
   ]
  },
  {
   "cell_type": "code",
   "execution_count": null,
   "metadata": {},
   "outputs": [],
   "source": []
  }
 ],
 "metadata": {
  "kernelspec": {
   "display_name": "C++14",
   "language": "C++14",
   "name": "xcpp14"
  },
  "language_info": {
   "codemirror_mode": "text/x-c++src",
   "file_extension": ".cpp",
   "mimetype": "text/x-c++src",
   "name": "c++",
   "version": "-std=c++14"
  }
 },
 "nbformat": 4,
 "nbformat_minor": 2
}
