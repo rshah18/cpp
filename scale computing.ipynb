{
 "cells": [
  {
   "cell_type": "markdown",
   "metadata": {},
   "source": [
    "## Scale Computing prep guide"
   ]
  },
  {
   "cell_type": "markdown",
   "metadata": {},
   "source": [
    "#### Main problems \n",
    "* Debugging a problem with limited information (25-35 minutes)\n",
    "* Writing functions to query and filter data from a set of dictionaries/hashes (15-35 minutes)\n",
    "* Building a simple controller for a lighting grid (15-40 minutes)"
   ]
  },
  {
   "cell_type": "markdown",
   "metadata": {},
   "source": [
    "#### Rules\n",
    "* you are free to use any outside resources, such as libraries, message boards, StackOverflow, etc. However, please cite these sources if you pull any code in directly. This is not a negative — we value research skills!\n",
    "* Please do not discuss the scenarios with other candidates."
   ]
  },
  {
   "cell_type": "markdown",
   "metadata": {},
   "source": [
    "#### key concepts \n",
    "* Iteration using for loops, iterators, or functional patterns\n",
    "* Inspecting variables or lists using print statements or console logging\n",
    "* Basic knowledge of classes/objects\n",
    "    * How to initialize a new object\n",
    "    * How to get and set new properties\n",
    "    * How to call methods on a class\n",
    "* Working with common data structures (exact terms vary by language)\n",
    "    * Arrays\n",
    "    * ArrayLists or vectors\n",
    "    * HashMaps, maps, or dictionaries\n",
    "* converting between different data types (string to integer, retrieving properties from a struct/Object/map, etc)"
   ]
  },
  {
   "cell_type": "markdown",
   "metadata": {},
   "source": [
    "### Scenarios"
   ]
  },
  {
   "cell_type": "markdown",
   "metadata": {},
   "source": [
    "#### Debugging a problem with limited information\n",
    "* This scenario will involve debugging a problem based on a bug report from customer support. You will not have all of the information you need to fix the problem.\n",
    "\n",
    "#### Writing functions to query and filter data from a set of dictionaries/hashes\n",
    "* This is a coding scenario, so you will be able to choose from any of the languages listed in the header of this section.\n",
    "* There are multiple viable approaches to each solution, so if you can't figure out how to apply a more advanced concept, use what you know and leave a comment for the reviewer.\n",
    "    * Does your code address the core requirements?\n",
    "    * Did you handle edge cases?\n",
    "    * Are your variable and function names clear?\n",
    "    * How good is the overall structure of your code? (Are functions right-sized and clear? Anything that's especially hard-coded?)\n",
    "    * Did you add helpful tests beyond the ones provided?\n",
    "    * Do you leave helpful comments explaining any tradeoffs or unclear patterns?\n",
    "\n",
    "#### Building a simple controller for a lighting grid\n",
    "* This is a coding scenario that you will need to complete in C++\n",
    "* we just want to gauge your experience level with C++ concepts that are not present in C, such as classes.\n",
    "    * Basic knowledge of classes/objects\n",
    "    * How to initialize a new object\n",
    "    * How to get and set new properties\n",
    "    * How to call methods on a class\n",
    "    * Working with STL maps and pairs\n",
    "* Requirements \n",
    "    * Does your code address the core requirements?\n",
    "    * Did you handle edge cases?\n",
    "    * Are your variable and function names clear?\n",
    "    * How good is the overall structure of your code? (Are functions right-sized and clear? Anything that's especially hard-coded?)\n",
    "    * Did you add helpful tests beyond the ones provided?\n",
    "    * Do you leave helpful comments explaining any tradeoffs or unclear patterns?\n"
   ]
  },
  {
   "cell_type": "markdown",
   "metadata": {},
   "source": [
    " * You may write your code in your own IDE / editor and copy / paste your solution in.\n",
    " * use the Qualified editor to take advantage of the automated testing capabilities."
   ]
  },
  {
   "cell_type": "markdown",
   "metadata": {},
   "source": [
    "```cpp\n",
    "class Lights\n",
    "{\n",
    "  public:\n",
    "    vector<pair<string, string>> to_return;\n",
    "     string state = \"off\"; \n",
    "     Lights()\n",
    "    {\n",
    "    }\n",
    "    \n",
    "    string tick(string id)\n",
    "    {   \n",
    "        static int status; \n",
    "        int press = stoi(id); \n",
    "        status += press; \n",
    "        if(status == 1){\n",
    "            state = \"low\"; \n",
    "        }\n",
    "\n",
    "        else if(status == 2){\n",
    "            state = \"medium\"; \n",
    "        }\n",
    "\n",
    "        else if(status == 3){\n",
    "            state = \"high\"; \n",
    "        }\n",
    "        else if(status >= 4){\n",
    "            status = 0; \n",
    "            state = \"off\"; \n",
    "        }\n",
    "\n",
    "      to_return.push_back({to_string(status), state});\n",
    "      return state; \n",
    "    }\n",
    "\n",
    "  \n",
    "    vector<pair<string, string>> current_states()\n",
    "    {\n",
    "        for(int i = 0; i << to_return.size(); ++i){\n",
    "            cout <<to_return[i].first<<\" \"<<to_return[i].second<< endl; \n",
    "        }\n",
    "      return to_return;\n",
    "    }  \n",
    "};\n",
    "\n",
    "int main(){\n",
    "\n",
    "\n",
    "    Lights a;\n",
    "    Lights b; \n",
    "    a.tick(\"1\");\n",
    "    b.tick(\"2\");\n",
    "    b.tick(\"1\");\n",
    "    b.current_states();\n",
    "\n",
    "    return 0;\n",
    "}\n",
    "\n",
    "\n",
    "\n",
    "```"
   ]
  },
  {
   "cell_type": "code",
   "execution_count": null,
   "metadata": {},
   "outputs": [],
   "source": [
    "```cpp\n"
   ]
  }
 ],
 "metadata": {
  "kernelspec": {
   "display_name": "C++14",
   "language": "C++14",
   "name": "xcpp14"
  },
  "language_info": {
   "codemirror_mode": "text/x-c++src",
   "file_extension": ".cpp",
   "mimetype": "text/x-c++src",
   "name": "c++",
   "version": "-std=c++14"
  }
 },
 "nbformat": 4,
 "nbformat_minor": 2
}
