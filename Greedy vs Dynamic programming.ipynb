{
 "cells": [
  {
   "cell_type": "markdown",
   "metadata": {},
   "source": [
    "# Greedy method"
   ]
  },
  {
   "cell_type": "markdown",
   "metadata": {},
   "source": [
    "* Used for optimization problem, that require a minimum or maximum result\n",
    "* feasible solution: solutions that meet minimum required conditions and constrains \n",
    "* Optimal solution: solution that is already feasible and costs minimum \n",
    "* There is only one optimal solution for a problem\n",
    "* Optimization problems are often handled by these methods\n",
    "    * Greedy method\n",
    "    * Dynamic programming \n",
    "    * Branch and bound "
   ]
  },
  {
   "cell_type": "markdown",
   "metadata": {},
   "source": [
    "#### Greedy method \n",
    "* A problem should be solved in stages\n",
    "* Each stage will consider one input from a given problem and if that input is feasible we include it in a solution\n",
    "* Known methods of filtering out choices and choosing the best solution for you is the greedy method\n",
    "\n",
    "##### Knapshack problem \n",
    "* Eg:\n",
    "\n",
    "    ``` knapsack problem or rucksack problem is a problem in combinatorial optimization: Given a set of items, each with a weight and a value, determine the number of each item to include in a collection so that the total weight is less than or equal to a given limit and the total value is as large as possible.```\n",
    "    * figure out value per kg \n",
    "    * get the highest volume available for the highest price \n",
    "    * subtract it from max weight of knapshack \n",
    "    * choose next highest priced obejct and repeat until knapshack is filled \n",
    "    * constrain: $\\sum x_i * w_i \\leq m$;  m = total weight of knapshack\n",
    "    * Objective: $max(\\sum x_i * p_i )$"
   ]
  },
  {
   "cell_type": "markdown",
   "metadata": {},
   "source": [
    "#### Optimal merge pattern & Huffman coding (compression technique) \n",
    "* total time cost of merging two files is sum of their sizes \n",
    "* merging smaller lists first gives the fastest merging speed\n",
    "\n",
    "* ASCII codes are 8 bit or 1 byte \n",
    "* we record the frequency of characters in the sequence \n",
    "* depending on frequency we determine the minimum number of bits to represent them \n",
    "* int('c') gives ascii value of character c \n"
   ]
  },
  {
   "cell_type": "markdown",
   "metadata": {},
   "source": [
    "#### Dijkstra algorithm (single shortest path)\n",
    "* for a directed graph we find the shortest path from one node to every other node \n",
    "* it is a minimization (optimization problem) \n",
    "* Greedy method can be used\n",
    "    * solving the problem in stages \n",
    "    * by taking one step at at time considering one input at a time to get a optimal solution \n",
    "* it works both on directed and undirected graph \n",
    "* relaxation: updating the path length in weights from one node to a further node \n",
    "    * a distance node in graph has length infinity \n",
    "    * after adding several node paths we get a sum that is less than infinity \n",
    "    * chaning infinity to that sum is relaxation \n",
    "* approach\n",
    "    * find the shortest weight to a vertex \n",
    "    * move to that vertex \n",
    "    * perform relaxation for neighboring vertices \n",
    "* time complexity\n",
    "    * at most n nodes in graph \n",
    "    * at most n relaxations \n",
    "    * total time complexity = 0(n^2) for complete graph \n",
    "* you can convert non directed graph to directed graph by adding parallel edges\n",
    "* drawbacks:\n",
    "    * not considered for negative weights of the edges \n",
    "    "
   ]
  },
  {
   "cell_type": "markdown",
   "metadata": {},
   "source": [
    "## Dynamic programming \n"
   ]
  },
  {
   "cell_type": "markdown",
   "metadata": {},
   "source": [
    "#### Greedy method vs. dynamic programming \n",
    "* both are used for solving optimization problem \n",
    "* In greedy method, we follow pre-defined procedure to get optimal solution \n",
    "* In dynamic programming, we figure all possible solutions then pick up the best solution \n",
    "* Most dynamic programming problems are solved using iterative approach \n",
    "\n",
    "\n",
    "* Dynamic programming:\n",
    "    * It follows principle of optimality, \n",
    "    * Instead of a predetermined decision for every stage like greedy approach, a decision is taken at every stage\n",
    "* Memoization \n",
    "    * we store the result of recursive functions that are likely to repeat \n",
    "    * A global array is used to store the result and to keep track of which functions have already been called\n",
    "* Tabulation \n",
    "    * a bottom up approach \n",
    "    ```cpp\n",
    "    int fib(int n){\n",
    "        if(n <= 1) return n; \n",
    "        f[0] = 0; f[1] = 1; \n",
    "        for(int i =2; i<=n; i++){\n",
    "            f[i]= f[i-2] + f[i-1];\n",
    "        }\n",
    "        return f[n]; \n",
    "    ```\n"
   ]
  },
  {
   "cell_type": "markdown",
   "metadata": {},
   "source": [
    "#### Multistage graph (Dynamic programming strategy)\n",
    "* Multistage graph is a directed weighted graph\n",
    "* start and end points are single vertex \n",
    "* every other vertex only connected to next point \n",
    "* Useful for resource allocation "
   ]
  }
 ],
 "metadata": {
  "kernelspec": {
   "display_name": "C++14",
   "language": "C++14",
   "name": "xcpp14"
  },
  "language_info": {
   "codemirror_mode": "text/x-c++src",
   "file_extension": ".cpp",
   "mimetype": "text/x-c++src",
   "name": "c++",
   "version": "-std=c++14"
  }
 },
 "nbformat": 4,
 "nbformat_minor": 2
}
