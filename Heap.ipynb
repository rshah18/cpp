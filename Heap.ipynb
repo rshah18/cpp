{
 "cells": [
  {
   "cell_type": "markdown",
   "metadata": {},
   "source": [
    "# Heap "
   ]
  },
  {
   "cell_type": "markdown",
   "metadata": {},
   "source": [
    "* A heap is a complete binary tree \n",
    "* If a binary tree is represented in an array, there should not be any blank spaces in between elements \n",
    "    * based on formula:\n",
    "        * left child at $2* index$\n",
    "        * right child at $2* index +1$ \n",
    "        * parent = $\\frac{index}{2} $\n",
    "    * In complete binary tree we fill elements from left to right \n",
    "* Binary heaps are represented using arrays \n",
    "* A max heap satisfies the following condition: \n",
    "    * Every node should have element greater than or equal to its descendent, i,e, the root must have highest value and gradually lower down at bottom levels\n",
    "* A min heap satisfies the following condition:\n",
    "    * Every node has element smaller than or equal to its descendent \n",
    "* The height of binary tree is always $log(n)$ as it is a complete tree  "
   ]
  },
  {
   "cell_type": "markdown",
   "metadata": {},
   "source": [
    "#### Insertion \n",
    "* To max heap:\n",
    "    * Insert the element at the next free space in order to maintain a complete binary tree\n",
    "    * rearrange the heap to make it a max heap \n",
    "    * Compare the added element with its parent and move up until the max heap is maintained\n",
    "    * hold the added element in a temp variable compare it to parent \n",
    "        * if more that its parent, copy parent element to where to it is\n",
    "        * compare now to its grand parent and if more copy it down and compare further \n",
    "        * copy from temp to its final position only not to intermediate positions \n",
    "    * Insertion time is always $log(n)$"
   ]
  },
  {
   "cell_type": "markdown",
   "metadata": {},
   "source": [
    "#### creating a heap from given elements \n",
    "* use the same array partition to heap and non heap\n",
    "* transfer each element iteratively from non heap partition to heap partition \n",
    "* heapify at each process.  \n",
    "* time complexity is #elements to be inserted x log(n) heapify = 0(log(n)*n)\n"
   ]
  },
  {
   "cell_type": "markdown",
   "metadata": {},
   "source": [
    "#### Deleting from heap \n",
    "* from heap you can delete only root element \n",
    "* from heap you can only delete largest element \n",
    "* steps:\n",
    "    * delete the root element \n",
    "    * bring the last element in the heap to the root to keep it a complete binary tree \n",
    "    * repeat: \n",
    "        * compare which is greater among the root's children \n",
    "        * compare the greater one with the root \n",
    "        * if root is smaller then interchange \n",
    "* Deleting the root and putting it at the end repeatedly shorts the array also called heapsort \n",
    "* Heapsort involves: \n",
    "    * creating an heap : $0(n*log(n))$\n",
    "    * deleting the elements : $0(n*log(n))$\n",
    "    * total time : $ 0(n*log(n))$ "
   ]
  },
  {
   "cell_type": "markdown",
   "metadata": {},
   "source": [
    "* zeroth element is not used\n",
    "\n",
    "```cpp\n",
    "#include<iostream> \n",
    "#include<vector>\n",
    "#include<algorithm>\n",
    "using namespace std;\n",
    "\n",
    "//print v\n",
    "void print(vector<int> & v){\n",
    "    for(auto s:v){\n",
    "        cout << s<< \" \";\n",
    "    }\n",
    "}\n",
    "\n",
    "//insert max heap\n",
    "void heapify(vector<int> &h){\n",
    "    int i = h.size()-1; \n",
    "    int parent = i/2 ;\n",
    "    int temp = h.back(); \n",
    "    while(i>1 && temp > h[i/2] ){\n",
    "        h[i] = h[i/2]; \n",
    "        i = i/2; \n",
    "    }\n",
    "    h[i] = temp; \n",
    "}\n",
    "\n",
    "void insert(vector<int> &h, int n){\n",
    "    h.push_back(n);\n",
    "    heapify(h); \n",
    "}\n",
    "\n",
    "int main() { \n",
    "     \n",
    "     int a[8] = {0,10,20,30,25,5,40,35};\n",
    "    vector<int> heap; \n",
    "    for(int i = 0; i<8; i++){\n",
    "        insert(heap, a[i]);\n",
    "    }\n",
    "    print(heap);\n",
    "\treturn 0; \n",
    "} \n",
    "```"
   ]
  },
  {
   "cell_type": "code",
   "execution_count": null,
   "metadata": {},
   "outputs": [],
   "source": []
  }
 ],
 "metadata": {
  "kernelspec": {
   "display_name": "C++14",
   "language": "C++14",
   "name": "xcpp14"
  },
  "language_info": {
   "codemirror_mode": "text/x-c++src",
   "file_extension": ".cpp",
   "mimetype": "text/x-c++src",
   "name": "c++",
   "version": "-std=c++14"
  }
 },
 "nbformat": 4,
 "nbformat_minor": 2
}
