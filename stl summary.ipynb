{
 "cells": [
  {
   "cell_type": "markdown",
   "metadata": {},
   "source": [
    "#### Sequence containers\n",
    "* array: Static contiguous array (class template)\n",
    "* vector: Dynamic contiguous array (class template)\n",
    "* deque: Double-ended queue (class template)\n",
    "* forward_list: Singly-linked list (class template)\n",
    "* list : Doubly-linked list (class template)"
   ]
  },
  {
   "cell_type": "markdown",
   "metadata": {},
   "source": [
    "#### Associative containers  \n",
    "##### Associative containers implement sorted data structures that can be quickly searched (O(log n) complexity).\n",
    "\n",
    "* Set: Collection of unique keys, sorted by keys (class template)\n",
    "* Map: Collection of key-value pairs, sorted by keys, keys are unique (class template).\n",
    "* multiset: Collection of keys, sorted by keys (class template)\n",
    "* multimap: Collection of key-value pairs, sorted by keys(class template)"
   ]
  },
  {
   "cell_type": "markdown",
   "metadata": {},
   "source": [
    "#### Unordered associative containers\n",
    "##### Unordered associative containers implement unsorted (hashed) data structures that can be quickly searched (O(1) amortized, O(n) worst-case complexity).\n",
    "\n",
    "* unordered_set: Collection of unique keys, hashed by keys. (class template)\n",
    "* unordered_map: Collection of key-value pairs, hashed by keys, keys are unique. (class template)\n",
    "* unordered_multiset: Collection of keys, hashed by keys (class template)\n",
    "* unordered_multimap: Collection of key-value pairs, hashed by keys (class template)\n"
   ]
  },
  {
   "cell_type": "markdown",
   "metadata": {},
   "source": [
    "#### Container adaptors\n",
    "\n",
    "##### Container adaptors provide a different interface for sequential containers.\n",
    "* stack: Adapts a container to provide stack (LIFO data structure) (class template).\n",
    "* queue: Adapts a container to provide queue (FIFO data structure) (class template).\n",
    "* priority_queue: Adapts a container to provide priority queue (class template).\n"
   ]
  },
  {
   "cell_type": "markdown",
   "metadata": {},
   "source": [
    "#### Vectors\n",
    "\n",
    "* **begin()** – Returns an iterator pointing to the first element in the vector\n",
    "* **end()** – Returns an iterator pointing to the theoretical element that follows the last element in the vector\n",
    "* **rbegin()** – Returns a reverse iterator pointing to the last element in the vector (reverse beginning). It moves from last to first element\n",
    "* **rend()** – Returns a reverse iterator pointing to the theoretical element preceding the first element in the vector (considered as reverse end)\n",
    "* **cbegin()** – Returns a constant iterator pointing to the first element in the vector.\n",
    "* **cend()** – Returns a constant iterator pointing to the theoretical element that follows the last element in the vector.\n",
    "* **crbegin()** – Returns a constant reverse iterator pointing to the last element in the vector (reverse beginning). It moves from last to first element\n",
    "* **crend()** – Returns a constant reverse iterator pointing to the theoretical element preceding the first element in the vector (considered as reverse end)\n"
   ]
  },
  {
   "cell_type": "markdown",
   "metadata": {},
   "source": [
    "* **size()** – Returns the number of elements in the vector.\n",
    "* **max_size()** – Returns the maximum number of elements that the vector can hold.\n",
    "* **capacity()** – Returns the size of the storage space currently allocated to the vector expressed as number of elements.\n",
    "* **resize(n)** – Resizes the container so that it contains ‘n’ elements.\n",
    "* **empty()** – Returns whether the container is empty.\n",
    "* **shrink_to_fit()** – Reduces the capacity of the container to fit its size and destroys all elements beyond the capacity.\n",
    "* **reserve()** – Requests that the vector capacity be at least enough to contain n elements."
   ]
  },
  {
   "cell_type": "markdown",
   "metadata": {},
   "source": [
    "* **reference operator [g]** – Returns a reference to the element at position ‘g’ in the vector\n",
    "* **at(g)** – Returns a reference to the element at position ‘g’ in the vector\n",
    "* **front()** – Returns a reference to the first element in the vector\n",
    "* **back()** – Returns a reference to the last element in the vector\n",
    "* **data()** – Returns a direct pointer to the memory array used internally by the vector to store its owned elements. "
   ]
  },
  {
   "cell_type": "markdown",
   "metadata": {},
   "source": [
    "* **assign()** – It assigns new value to the vector elements by replacing old ones\n",
    "* **push_back()** – It push the elements into a vector from the back\n",
    "* **pop_back()** – It is used to pop or remove elements from a vector from the back.\n",
    "* **insert()** – It inserts new elements before the element at the specified position\n",
    "* **erase()** – It is used to remove elements from a container from the specified position or range.\n",
    "* **swap()** – It is used to swap the contents of one vector with another vector of same type. Sizes may differ.\n",
    "* **clear()** – It is used to remove all the elements of the vector container\n",
    "* **emplace()** – It extends the container by inserting new element at position\n",
    "* **emplace_back()** – It is used to insert a new element into the vector container, the new element is added to the end of the vector"
   ]
  },
  {
   "cell_type": "markdown",
   "metadata": {},
   "source": [
    "#### List\n",
    "\n",
    "* **front()** – Returns the value of the first element in the list.\n",
    "* **back()** – Returns the value of the last element in the list .\n",
    "* **push_front(g)** – Adds a new element ‘g’ at the beginning of the list .\n",
    "* **push_back(g)** – Adds a new element ‘g’ at the end of the list.\n",
    "* **pop_front()** – Removes the first element of the list, and reduces size of the list by 1.\n",
    "* **pop_back()** – Removes the last element of the list, and reduces size of the list by 1\n",
    "* **begin()** function returns an iterator pointing to the first element of the list\n",
    "* **end()** function returns an iterator pointing to the theoretical last element which follows the last element.\n",
    "* **rbegin()** returns a reverse iterator which points to the last element of the list. \n",
    "* **rend()** returns a reverse iterator which points to the position before the beginning of the list.\n",
    "* **cbegin()** returns a constant random access iterator which points to the beginning of the list.\n",
    "* **cend()** returns a constant random access iterator which points to the end of the list.\n",
    "* **crbegin()** returns a constant reverse iterator which points to the last element of the list i.e reversed beginning of container. \n",
    "* **crend()** returns a constant reverse iterator which points to the theoretical element preceding the first element in the list i.e. the reverse end of the list.\n",
    "* **empty()** – Returns whether the list is empty(1) or not(0).\n",
    "* **insert()** – Inserts new elements in the list before the element at a specified position.\n",
    "* **erase()** – Removes a single element or a range of elements from the list.\n",
    "* *assign()** – Assigns new elements to list by replacing current elements and resizes the list.\n",
    "* **remove()** – Removes all the elements from the list, which are equal to given element.\n",
    "list::remove_if() in C++ STL– Used to remove all the values from the list that correspond true to the predicate or condition given as parameter to the function.\n",
    "reverse() – Reverses the list.\n",
    "size() – Returns the number of elements in the list.\n",
    "list resize()function in C++ STL– Used to resize a list container.\n",
    "sort() – Sorts the list in increasing order.\n",
    "list max_size() function in C++ STL– Returns the maximum number of elements a list container can hold.\n",
    "list unique() in C++ STL– Removes all duplicate consecutive elements from the list.\n",
    "list::emplace_front() and list::emplace_back() in C++ STL– emplace_front() function is used to insert a new element into the list container, the new element is added to the beginning of the list. emplace_back() function is used to insert a new element into the list container, the new element is added to the end of the list.\n",
    "list::clear() in C++ STL– clear() function is used to remove all the elements of the list container, thus making it size 0.\n",
    "list::operator= in C++ STL– This operator is used to assign new contents to the container by replacing the existing contents.\n",
    "list::swap() in C++ STL– This function is used to swap the contents of one list with another list of same type and size.\n",
    "list splice() function in C++ STL– Used to transfer elements from one list to another.\n",
    "list merge() function in C++ STL– Merges two sorted lists into one\n",
    "list emplace() function in C++ STL– Extends list by inserting new element at a given position."
   ]
  },
  {
   "cell_type": "code",
   "execution_count": null,
   "metadata": {},
   "outputs": [],
   "source": []
  }
 ],
 "metadata": {
  "kernelspec": {
   "display_name": "C++14",
   "language": "C++14",
   "name": "xcpp14"
  },
  "language_info": {
   "codemirror_mode": "text/x-c++src",
   "file_extension": ".cpp",
   "mimetype": "text/x-c++src",
   "name": "c++",
   "version": "-std=c++14"
  }
 },
 "nbformat": 4,
 "nbformat_minor": 2
}
