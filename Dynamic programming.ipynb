{
 "cells": [
  {
   "cell_type": "markdown",
   "metadata": {},
   "source": [
    "# Dynamic programming "
   ]
  },
  {
   "cell_type": "markdown",
   "metadata": {},
   "source": [
    "## Notes "
   ]
  },
  {
   "cell_type": "markdown",
   "metadata": {},
   "source": [
    "* **What are the subproblems in this case?**\n",
    "* Dynamic programming is a general technique for solving optimization, search and counting problems, that can be decomposed into subproblems \n",
    "* You should consider using DP when ever you have to make choices to arrive at the solution, specifically, when the solution relates to subproblems. \n",
    "* DP solves problem by combining the solutions of multiple smaller problems anc catching the results of intermediate computations\n",
    "* Minimizing cache space is a recurring theme in DP. \n",
    "* Try to compute these problems with 0(n) time and 0(1) space\n",
    "* The **key** to solving a DP problem efficiently is finding a way to break the problem into subproblems such that \n",
    "    * The original problem can be solved relatively easily once solutions to the subproblems are available \n",
    "    * These subproblem solutions are cached\n",
    "* DP is also applicable to counting and decision problems - any problem where you can express a solution recursively in terms of the same computation on smaller instances\n",
    "* Although, DP involves recursion, often for efficiency the cache is build **bottom-up** that is **iteratively**\n",
    "* **When DP is implemented recursively the cache is typically a dynamic data structure such as a hash table or a BST, when its implemented iterarively the cache is usually a one- or multi-dimensional array**\n",
    "* To save space, cache space may be recycled once it is known that a set of entries will not be looked up again\n"
   ]
  },
  {
   "cell_type": "markdown",
   "metadata": {},
   "source": [
    "#### Fibonacci series \n",
    "* A series of numbers in which each number is the sum of the two preceding numbers \n",
    "\n",
    "```cpp\n",
    "int fib(int n){\n",
    "    if(n<= 1){return n; }\n",
    "    else{\n",
    "        return fib(n-2)+fib(n-1);\n",
    "    }\n",
    "}\n",
    "```"
   ]
  },
  {
   "cell_type": "markdown",
   "metadata": {},
   "source": [
    "<img src=./images/fib.png width= 400 height = 200>"
   ]
  },
  {
   "cell_type": "markdown",
   "metadata": {},
   "source": [
    "* Rucurrence relation\n",
    "\n",
    "$$ T(n) = T(n-1) + T(n-2) + O(1), T(n) = (2^n) $$\n"
   ]
  },
  {
   "cell_type": "markdown",
   "metadata": {},
   "source": [
    "Solution for time complexity\n",
    "* Remember the result \n",
    "* Two methods of storing the results in memory \n",
    "    1. Memoization (Top-Down)\n",
    "        * Solve the problem once and store in memory and then look up when problem is encountered again \n",
    "    2. Tabulation (Bottom-up) \n",
    "        * Pre compute the solution in linear fashion and store in table for look up later"
   ]
  },
  {
   "cell_type": "markdown",
   "metadata": {},
   "source": [
    "## Dynamic programming \n",
    "* Dynamic programming is an algorithmic paradigm that solves a given complex problem by breaking it into subproblems and storing the results of subproblems to avoid computing the same results again \n",
    "* It is similar to divide and conquer as both paradigms work by combining solutions to subproblems \n",
    "* Dynamic programming is mainly used when the overlapping subproblems property is satisfied \n",
    "    * eg Binary search, fibonacci \n"
   ]
  },
  {
   "cell_type": "markdown",
   "metadata": {},
   "source": [
    "Two main properties of a problem that suggest that the given problem can be solved using dynamic programming \n",
    "1. Overlapping subproblems \n",
    "2. Optimal Substructure "
   ]
  },
  {
   "cell_type": "markdown",
   "metadata": {},
   "source": [
    "#### Memoization technique \n",
    "* Initialize a lookup array/table with all its elements as NIL \n",
    "* Call the recursive f(n) to solve for 'n' using memoization \n",
    "* At every step i, f(i) performs the following steps:\n",
    "    1. Checks whether ```table[i]``` is NIL or not\n",
    "    2. if its not NIL, f(i) returns the value ```table[i]```\n",
    "    3. if its NIL, and 'i' satisfies the base condition, we update the lookup table with the base value and return the same \n",
    "    4. If its NIL, and i does not satify the base condition, then f(i) splits the problem i into subproblems and recursively calls itself to solve them \n",
    "    5. After the recursive calls return, f(i) combines the solutions to subproblems, updates the lookup table and return the solution  for problem 'i'\n",
    "    \n",
    "    "
   ]
  },
  {
   "cell_type": "markdown",
   "metadata": {},
   "source": [
    "```cpp\n",
    "#include<iostream> \n",
    "using namespace std;\n",
    "#define nil -1 \n",
    "#define max 100 \n",
    "\n",
    "int lookup[max]; \n",
    "void _initialize(){\n",
    "    for(int i = 0; i < max; i++){\n",
    "        lookup[i] = nil; \n",
    "    }\n",
    "}\n",
    "\n",
    "int fib(int n){\n",
    "    if(lookup[n] == nil){\n",
    "        if(n <=1){lookup[n] = n;}\n",
    "        else{\n",
    "            lookup[n] = fib(n-1)+fib(n-2); \n",
    "        }\n",
    "    }\n",
    "    return lookup[n]; \n",
    "}\n",
    "\n",
    "int main() { \n",
    "    _initialize();\n",
    "    cout << fib(5); \n",
    "\treturn 0; \n",
    "} \n",
    "```"
   ]
  },
  {
   "cell_type": "markdown",
   "metadata": {},
   "source": [
    "#### Tabulation \n",
    "* Build the lookup table in bottom up fashion \n",
    "* After the table is built, simply return ```table[n]```\n",
    "* Steps: \n",
    "    1. We begin with initializing the base value of 'i'\n",
    "    2. Next, we run a loop that iterates over the remaining values of 'i'\n",
    "    3. At every iteration i, f(n) updates the ith entry in the loopup table by combining the solutions to the previously solved subproblems \n",
    "    4. finally f(n) returns table[n]\n"
   ]
  },
  {
   "cell_type": "markdown",
   "metadata": {},
   "source": [
    "```cpp\n",
    "int fib(int n){\n",
    "    int f[n+1];\n",
    "    f[0] = 0; \n",
    "    f[1] = 1;\n",
    "    for(int i = 2; i <= n; i++){\n",
    "        f[i] = f[i-1]+f[i-2]; \n",
    "    }\n",
    "    return f[n];\n",
    "}\n",
    "```"
   ]
  },
  {
   "cell_type": "markdown",
   "metadata": {},
   "source": [
    "#### Memoization vs. Tabulation \n",
    "* Tabulation:\n",
    "    * Works in bottom up fashion \n",
    "    * Avoids multiple lookups, thus, saves function call overhead time\n",
    "* Memoization:\n",
    "    * Work in top down fashion \n",
    "    * Sometimes, avoids computing solutions to subproblems that are not needed, \n",
    "    * Sometimes, more intiutive to write "
   ]
  },
  {
   "cell_type": "markdown",
   "metadata": {},
   "source": [
    "#### Optimal substructure property \n",
    "* A given problem is said to have the optimal substructure property if an optimal solution of the given problem can be obtained by using optimal solutions of its subproblems \n"
   ]
  },
  {
   "cell_type": "markdown",
   "metadata": {},
   "source": [
    "* The shortest path problem has the following optimal substructure property :\n",
    "    * if a node x lies in the shortest path from source node u to the destination node v, then,\n",
    "    * the shortest path from u to v is the combination of shortest path from u to x and shortest path from x to v.\n",
    "* All pair shortest path \n",
    "    * Floyd-warshall\n",
    "    * Bellman-ford \n",
    "* The longest path problem doesn't have the optimal substructure property \n",
    "    * longest path means the longest simple path (path without cycle) betweeen two nodes \n",
    "    "
   ]
  },
  {
   "cell_type": "markdown",
   "metadata": {},
   "source": [
    "#### Longest increasing subsequence \n",
    "* find the length of the longest subsequence of a given sequence such that all elements of the subsequence are sorted in increasing order\n",
    "* A single sequence is also a subsequence \n",
    "* for eg:\n",
    "    * Given sequence: {10, 22, 9, 33, 21, 50, 41, 60}\n",
    "    * Subsequences : {10}, {10,22}, {10, 9, 33}, {33, 21, 60}, {50, 60},etc\n",
    "    * longest increasing subsequences: {10, 22, 33, 50, 60} or {10,22,33,41,60}\n",
    "    "
   ]
  },
  {
   "cell_type": "markdown",
   "metadata": {},
   "source": [
    "* Only works in this implementation \n",
    "\n",
    "```cpp\n",
    "int longestsub(vector<int> x){\n",
    "    vector<int>sub;\n",
    "    sub.push_back(x.front());\n",
    "    for(int s =0; s<x.size(); s++){\n",
    "        if(sub.back() < x[s]){\n",
    "            sub.push_back(x[s]);\n",
    "        }\n",
    "    }\n",
    "    pv(sub);\n",
    "    return sub.size();\n",
    "}\n",
    "```"
   ]
  },
  {
   "cell_type": "markdown",
   "metadata": {},
   "source": [
    "* better solution with dynamic programming \n",
    "* vector lis stores the length of the longest subsequence \n",
    "    * it is initialized to 1 because a single element is a subsequence \n",
    "* if v[a] > v[b] we have increasing subsequence lis[i] becomes lis[j]+1 \n",
    "    * lis[a=0] is already 1 \n",
    "* we pick an element and compare it with all elements before it \n",
    "* we count the longest sequence ending at that element from beginning and store in the corresponding array at same index lis \n",
    "\n",
    "\n",
    "```cpp\n",
    "int lis(vector<int>v){\n",
    "    int max = 0; \n",
    "    vector<int> lis; \n",
    "    for(int i = 0; i < v.size(); i++){\n",
    "        lis.push_back(1);\n",
    "    }\n",
    "    for(int a = 1; a < v.size(); a++){\n",
    "        for(int b = 0; b < a; b++){\n",
    "            if(v[a] > v[b] && lis[a]<lis[b]+1){\n",
    "                lis[a] = lis[b]+1; \n",
    "            }\n",
    "        }\n",
    "    }\n",
    "    for(auto s: lis){\n",
    "        if(max < s){\n",
    "            max = s; \n",
    "        }\n",
    "    }\n",
    "    return max; \n",
    "}\n",
    "```"
   ]
  },
  {
   "cell_type": "markdown",
   "metadata": {},
   "source": [
    "#### Longest common subsequence \n",
    "* Given two subsequences, find the length of longest subsequence present in both of them\n",
    "* A sequence is a subsequence that appears in the same relative order, but not necessarily contigous \n",
    "* without dynamic programming it is of exponential order \n",
    "* Using memoization, we get order $0(m*n)$. \n",
    "    * if two values are equal, add 1 to the upper diagonal value\n",
    "    * if unequal, max of upper element and on left, \n",
    "    * last bottom corner element is length of longest subsequence \n",
    "\n",
    "```cpp\n",
    "//longest common subsequence \n",
    "int lcs(string s1, string s2, int i, int j){\n",
    "    if(s1[i] == '\\0' || s2[j] == '\\0'){\n",
    "        return 0; \n",
    "    } else if(s1[i] == s2[j]){\n",
    "        return 1+lcs(s1,s2,++i,++j);\n",
    "    } else{\n",
    "        return max(lcs(s1, s2, ++i, j), lcs(s1, s2,i, ++j));\n",
    "    }\n",
    "}\n",
    "\n",
    "//using Dynamic programming (memoization)\n",
    "int dlcs(string s1, string s2){\n",
    "    int m = s1.size();\n",
    "    int n = s2.size();\n",
    "    int lcs[m+1][n+1];\n",
    "\n",
    "    for(int i =0; i <= m; i++){\n",
    "        for(int j =0; j <= n; j++){\n",
    "            if(i==0 || j==0){\n",
    "                lcs[i][j] =0;\n",
    "            } else if(s1[i-1]== s2[j-1]){\n",
    "                lcs[i][j] = lcs[i-1][j-1]+1; \n",
    "            } else{\n",
    "                lcs[i][j] = max( lcs[i-1][j], lcs[i][j-1]);\n",
    "            }\n",
    "        }\n",
    "    }\n",
    "    return lcs[m][n];\n",
    "}\n",
    "\n",
    "```"
   ]
  },
  {
   "cell_type": "markdown",
   "metadata": {},
   "source": [
    "#### Edit Distance \n",
    "\n",
    "* Given two strings string1, and string2, and below operations that can be performed on string1, find minimum number of operations of edits required to convert string1 to string2\n",
    "* operations are\n",
    "    1. Insert \n",
    "    2. Delete \n",
    "    3. Modify \n",
    "    "
   ]
  },
  {
   "cell_type": "markdown",
   "metadata": {},
   "source": [
    "Approach: Given two strings of length m and n\n",
    "    1. if the last characters of two strings match, we do not change anything and recur of length m-1 and n-1\n",
    "    2. Else compute minimum cost of all three operations (insert, delete, modify) and take minimum of these three values \n",
    "        * insert: recur for m and n-1 \n",
    "        * delete: recur for m-1 and n \n",
    "        * modify: recur for m-1 and n-1 \n",
    "    3. "
   ]
  }
 ],
 "metadata": {
  "kernelspec": {
   "display_name": "C++14",
   "language": "C++14",
   "name": "xcpp14"
  },
  "language_info": {
   "codemirror_mode": "text/x-c++src",
   "file_extension": ".cpp",
   "mimetype": "text/x-c++src",
   "name": "c++",
   "version": "-std=c++14"
  }
 },
 "nbformat": 4,
 "nbformat_minor": 2
}
