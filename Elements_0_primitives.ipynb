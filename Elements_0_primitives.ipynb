{
 "cells": [
  {
   "cell_type": "markdown",
   "metadata": {},
   "source": [
    "## Notes "
   ]
  },
  {
   "cell_type": "markdown",
   "metadata": {},
   "source": [
    "* A type is a classification of data that spells out possible values for that type and the operations that can be performed on it.\n",
    "* the width of these types is the number of bits of storage a corresponding variable takes in memory.\n",
    "* The parity of a word is 1 if the number of 1s in the word is odd. otherwise it is zero \n"
   ]
  },
  {
   "cell_type": "code",
   "execution_count": null,
   "metadata": {},
   "outputs": [],
   "source": [
    "## Tips \n",
    "* Be very comfortable with the bitwise operators particulary xor \n",
    "* Understand how to use masks and create them in an machine independent way\n",
    "* know fast ways to clear the lowermost set bit, \n",
    "* understand signedness and its implications to shifting \n",
    "* Consider using a cache to accelarate operations by using it to brute force small inputs \n",
    "* Be aware that commutativity and associativity can be used to perform operations and reorder operations \n",
    "\n",
    "\n"
   ]
  },
  {
   "cell_type": "markdown",
   "metadata": {},
   "source": [
    "## methods \n",
    "\n",
    "* & (bitwise AND): \n",
    "    * Takes two numbers as operands and does AND on every bit of two numbers.\n",
    "    * The result of AND is 1 only if both bits are 1.\n",
    "    * it is result of multiplying two bits \n",
    "    * may be used to determine whether a particular bit is set (1) or clear (0). \n",
    "    * bit masking: checking if 1 or 0 by anding that bit with 1 \n",
    "    * 1 & 1 = 1; 1 & 0 = 0; 0 & 0 = 0; check\n",
    "* | (bitwise OR):\n",
    "    * Takes two numbers as operands and does OR on every bit of two numbers.\n",
    "    * The result of OR is 1 if any of the two bits is 1.\n",
    "    * may be used to set to 1 the selected bits of the register \n",
    "    * a bit may be set by performing a bitwise OR with 1 \n",
    "* ^ (bitwise XOR): \n",
    "    * Takes two numbers as operands and does XOR on every bit of two numbers. \n",
    "    * The result of XOR is 1 if the two bits are different.\n",
    "    * used to invert selected bits in a register (also called toggle or flip). Any bit may be toggled by XORing it with 1\n",
    "    \n",
    "* << (left shift) \n",
    "    * Takes two numbers, left shifts the bits of the first operand,\n",
    "    * the second operand decides the number of places to shift.\n",
    "    \n",
    "* (>>) (right shift) \n",
    "    * Takes two numbers, right shifts the bits of the first operand,\n",
    "    * the second operand decides the number of places to shift.\n",
    "* ~  (bitwise NOT) \n",
    "    * Takes one number and inverts all bits of it\n",
    "<br><br>\n",
    "* fundamental types: \n",
    "    * integral types\n",
    "        * bool\n",
    "        * char\n",
    "        * wchar_t\n",
    "        * signed char\n",
    "        * short int\n",
    "        * int\n",
    "        * long int\n",
    "        * unsigned char\n",
    "        * unsigned short int\n",
    "        * unsigned int\n",
    "        * unsigned long int\n",
    "    * floating point types\t\n",
    "        * float\n",
    "        * double\n",
    "        * long double\n",
    "        \n",
    "* **numeric_limits**\n",
    "    * ```#include <limits>       // std::numeric_limits```\n",
    "    * std::numeric_limits<int>::min(): \n",
    "    * max()\n",
    "    * lowest()\n",
    "    * max \n",
    "<br><br>\n",
    "    * cmath. ```#include<cmath>\n",
    "    * Trigonometric functions\n",
    "        * cos     Compute cosine (function )\n",
    "        * sin     Compute sine (function )\n",
    "        * tan     Compute tangent (function )\n",
    "        * exp     Compute exponential function (function )\n",
    "        * frexp   Get significand and exponent (function )\n",
    "        * ldexp   Generate value from significand and exponent (function )\n",
    "        * log     Compute natural logarithm (function )\n",
    "        * log10   Compute common logarithm (function )\n",
    "        * modf    Break into fractional and integral parts (function )\n",
    "        * exp2    Compute binary exponential function (function )\n",
    "        * log2    Compute binary logarithm (function )\n",
    "        * pow     Raise to power (function )\n",
    "        * sqrt    Compute square root (function )\n",
    "        * cbrt    Compute cubic root (function )\n",
    "        * hypot   Compute hypotenuse (function )\n",
    "        * ceil    Round up value (function )\n",
    "        * floor   Round down value (function )\n",
    "        * fmod    Compute remainder of division (function )\n",
    "        * trunc   Truncate value (function )\n",
    "        * round   Round to nearest (function )\n",
    "        * fdim    Positive difference (function )\n",
    "        * fmax    Maximum value (function )\n",
    "        * fmin    Minimum value (function )\n",
    "        * fabs    Compute absolute value (function )\n",
    "        * abs     Compute absolute value (function )\n",
    "        * fma     Multiply-add (function )\n",
    "\n",
    "* Conversion\n",
    "    * a digit char to int = x-'0'\n",
    "    * int to string = to_string(123) \n",
    "    * string to int = stoi(\"34\")\n",
    "    * swap(x,y) to swap values\n",
    "    "
   ]
  },
  {
   "cell_type": "markdown",
   "metadata": {},
   "source": [
    "#### A program to count the number of bits that are set to 1 in an integer \n",
    "* shifting and masking \n",
    "* time complexity: 0(n), n = # bits in word. "
   ]
  },
  {
   "cell_type": "markdown",
   "metadata": {},
   "source": [
    "```cpp\n",
    "short countbits(unsigned int x){\n",
    "    short num_bits = 0;\n",
    "    while(x){\n",
    "        num_bits += x & 1;  //and check if x is 1 or 0 and add, increment num_bits if 1 \n",
    "        x >>= 1;            //right shift by 1 , x = x>>1 \n",
    "    }\n",
    "    return num_bits; \n",
    "}\n",
    "```"
   ]
  },
  {
   "cell_type": "markdown",
   "metadata": {},
   "source": [
    "#### 4.1 Compute the parity of a word\n",
    "* how would you compute the parity of a very large number of 64 bit words?"
   ]
  },
  {
   "cell_type": "markdown",
   "metadata": {},
   "source": [
    "\n"
   ]
  },
  {
   "cell_type": "markdown",
   "metadata": {},
   "source": []
  }
 ],
 "metadata": {
  "kernelspec": {
   "display_name": "C++14",
   "language": "C++14",
   "name": "xcpp14"
  },
  "language_info": {
   "codemirror_mode": "text/x-c++src",
   "file_extension": ".cpp",
   "mimetype": "text/x-c++src",
   "name": "c++",
   "version": "-std=c++14"
  }
 },
 "nbformat": 4,
 "nbformat_minor": 2
}
