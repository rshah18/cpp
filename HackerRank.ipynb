{
 "cells": [
  {
   "cell_type": "markdown",
   "metadata": {},
   "source": [
    "# HackerRank"
   ]
  },
  {
   "cell_type": "markdown",
   "metadata": {},
   "source": [
    "#### Tips \n",
    "1. Listen carefully the problem:\n",
    "    * Every detail in needed to solve problem \n",
    "    * if you solve a problem without using a detail, you might need that to solve it optimally\n",
    "    * Given two arrays(sorted+distinct). find number of elements in common \n",
    "        * use the fact that the arrays are already sorted \n",
    "2. use exmaples:\n",
    "    * use larger data sets and exclude special cases \n",
    "3. use brute force algorithm \n",
    "    * start with something slow to get going\n",
    "    * once that works then think of ways to improve it \n",
    "    * think of it, state it, may or may not code it \n",
    "    * come up with its time complexity, \n",
    "    * start optimizing it \n",
    "    * steps:\n",
    "        * State brute force\n",
    "        * State runtime \n",
    "        * Optimize \n",
    "* Optimize\n",
    "    * think of what exactly you are doing\n",
    "    * know exactly what you're going to do before coding\n",
    "        * what variables, data structures \n",
    "        * how, when and why do they change\n",
    "        * what is the structure of your code \n",
    "* walk through your algorithm\n",
    "    * 80% of what you are about to write is not enough specially for a white board\n",
    "* Code \n",
    "    * whiteboard:\n",
    "        * write straight \n",
    "        * use space wisely \n",
    "    * whiteboard+computer\n",
    "        * coding style matter\n",
    "            * names camelcase or a different format\n",
    "            * consistent variable name \n",
    "            * consistent space \n",
    "            * have descripting variable names \n",
    "        * have a style stick to it \n",
    "    * Modularize your code before(not after)\n",
    "        * dont make a function do everything at once\n",
    "        * make a overall function that wraps smaller modular functions \n",
    "        * any conceptual chunk of code push them off to write in other functions \n",
    "* Test your code \n",
    "    * think about each line\n",
    "    * Double check things that look weird/risky, eg. for loop that decrement, math functions etc. \n",
    "    * use test cases, small test-cases, faster to run, \n",
    "    * use edge cases, \n",
    "    * use big test cases \n",
    "    * test your code first, then test the algorithm\n",
    "    * think thoroughly before you fix your bugs \n",
    "    * wrong fixes are worse than no fix \n",
    "        \n",
    "            \n"
   ]
  },
  {
   "cell_type": "markdown",
   "metadata": {},
   "source": [
    "## Notes\n",
    "\n",
    "* permutation and combination problems \n",
    "* stdin \n",
    "* ```#include <bits/stdc++.h> ``` includes all standard cpp headers\n",
    "* string to int std::string s = \"10\"; int i = std::stoi(s);std::cout << i << '\\n'; \n",
    "* subtraction '0' from char gives int, subtracting '\\0' gives ascii value \n"
   ]
  },
  {
   "cell_type": "markdown",
   "metadata": {},
   "source": [
    "## Recursion "
   ]
  },
  {
   "cell_type": "markdown",
   "metadata": {},
   "source": [
    "#### 1. fibonacci series \n",
    "\n",
    "```cpp\n",
    "int fibonacci(int n){\n",
    "    if(n==0){\n",
    "    return 0;\n",
    "    }else if(n==1){\n",
    "    return 1; \n",
    "    } else{\n",
    "    return fibonacci(n-1)+fibonacci(n-2);\n",
    "    }\n",
    "}\n",
    "```"
   ]
  },
  {
   "cell_type": "markdown",
   "metadata": {},
   "source": [
    "#### 2. David's staircase \n",
    "\n",
    "```cpp\n",
    "//recursively \n",
    "int stepPerms(int n) {\n",
    "    if(n<0){return 0;}\n",
    "    else if(n ==0) {return 1;} \n",
    "    else{\n",
    "        return stepPerms(n-1)+stepPerms(n-2)+stepPerms(n-3); \n",
    "    }\n",
    "}\n",
    "\n",
    "//with memoization \n",
    "vector<int> v(100);\n",
    "void initvect(){\n",
    "    for(int i =0; i<v.size(); i++){\n",
    "        v[i] = -1; \n",
    "    }\n",
    "}\n",
    "\n",
    "int stepPerms(int n) {\n",
    "    if(n < 0){return 0;}\n",
    "    else if(n==0){return 1;}\n",
    "    \n",
    "    if(v[n] == -1){\n",
    "        v[n]= stepPerms(n-1)+stepPerms(n-2)+stepPerms(n-3);\n",
    "    } else {\n",
    "        return v[n];\n",
    "    }         \n",
    "}\n",
    "\n",
    "//tabulation \n",
    "int stepPerms(int n) {\n",
    "    vector<int> v(n+1); \n",
    "\n",
    "    v[0] = 1; \n",
    "    v[1] = 1;\n",
    "    v[2] = 2;\n",
    "\n",
    "    for(int i =3; i <=n; i++){\n",
    "        v[i] = v[i-1]+v[i-2]+v[i-3]; \n",
    "    } \n",
    "    return v[n];\n",
    "}\n",
    "```\n"
   ]
  },
  {
   "cell_type": "code",
   "execution_count": null,
   "metadata": {},
   "outputs": [],
   "source": [
    "#### 3. "
   ]
  },
  {
   "cell_type": "code",
   "execution_count": null,
   "metadata": {},
   "outputs": [],
   "source": []
  },
  {
   "cell_type": "code",
   "execution_count": null,
   "metadata": {},
   "outputs": [],
   "source": []
  },
  {
   "cell_type": "code",
   "execution_count": null,
   "metadata": {},
   "outputs": [],
   "source": []
  },
  {
   "cell_type": "code",
   "execution_count": null,
   "metadata": {},
   "outputs": [],
   "source": []
  },
  {
   "cell_type": "code",
   "execution_count": null,
   "metadata": {},
   "outputs": [],
   "source": []
  },
  {
   "cell_type": "code",
   "execution_count": null,
   "metadata": {},
   "outputs": [],
   "source": []
  },
  {
   "cell_type": "code",
   "execution_count": null,
   "metadata": {},
   "outputs": [],
   "source": []
  },
  {
   "cell_type": "code",
   "execution_count": null,
   "metadata": {},
   "outputs": [],
   "source": []
  },
  {
   "cell_type": "markdown",
   "metadata": {},
   "source": [
    "## Arrays \n",
    "\n",
    "* convert vector to array\n",
    "```\n",
    "vector<int>v = {3,5,2,8,4};\n",
    "int *p = &v[0];\n",
    "    ```"
   ]
  },
  {
   "cell_type": "code",
   "execution_count": null,
   "metadata": {},
   "outputs": [],
   "source": [
    "#### Power set P(S) of a set S is the set of all subsets of S\n"
   ]
  },
  {
   "cell_type": "markdown",
   "metadata": {},
   "source": [
    "#### reverse print an array \n",
    "\n",
    "```cpp \n",
    "void rev(vector<int> x){\n",
    "    vector<int>::reverse_iterator it; \n",
    "    for(it = x.rbegin(); it != x.rend(); it++){\n",
    "        cout << *it << \" \"; \n",
    "    }\n",
    "}\n",
    "```"
   ]
  },
  {
   "cell_type": "markdown",
   "metadata": {},
   "source": [
    "* ```vector<int> freq(26, 0);``` makes vectors of size 26, and initialize it with zeros "
   ]
  },
  {
   "cell_type": "markdown",
   "metadata": {},
   "source": [
    "#### New years chaos \n",
    "* the minimum number of bribes that took place to get the queue into its current state!\n",
    "* At max 2 swaps allowed towards front \n",
    "\n",
    "* my solution\n",
    "```cpp\n",
    "void minimumBribes(vector<int> q) {\n",
    "    vector<int>swaps; \n",
    "    int total_swaps = 0;\n",
    "\n",
    "    for(int i = 0; i< q.size(); ++i){\n",
    "        int tag = i+1; \n",
    "        int swap = tag-q[i];\n",
    "        if(q[i] != tag && swap>0){\n",
    "            swaps.emplace_back(swap);\n",
    "        }\n",
    "    }\n",
    "\n",
    "    total_swaps = accumulate(swaps.begin(),swaps.end(),0);\n",
    "    for(const auto c: swaps){\n",
    "        if(c> 2){\n",
    "            cout << \"Too chaotic\" << endl; \n",
    "            break;\n",
    "        }\n",
    "        \n",
    "    }\n",
    "    cout << total_swaps<< endl; \n",
    "}\n",
    "```\n",
    "\n",
    "* hackerrank solution\n"
   ]
  },
  {
   "cell_type": "markdown",
   "metadata": {},
   "source": [
    "## Strings\n",
    "\n",
    "* find(a.begin(), a.end(), stuff_to_find) can be used to find, returns iterator to the item or the iterator to end if not found\n",
    "* sort(a.begin(), a.end()) sorts the string \n",
    "* string.substr(start, length): returns a substrings "
   ]
  },
  {
   "cell_type": "markdown",
   "metadata": {},
   "source": [
    "#### Make anagram\n",
    "\n",
    "* minimum number of character deletions required to make the two strings anagrams.\n",
    "* my solution \n",
    "\n",
    "```cpp\n",
    "int makeAnagram(string a, string b) {\n",
    "    int match = 0; \n",
    "    int count = 0; \n",
    "    unordered_map<char, int> list_a; \n",
    "    string::iterator result; \n",
    "    for(const auto c: a){\n",
    "        result = find(b.begin(), b.end(), c); \n",
    "        if(result != b.end()){\n",
    "            list_a[*result]++;\n",
    "        }\n",
    "    }\n",
    "\n",
    "    for(const auto c: list_a){\n",
    "        match += c.second;  \n",
    "    }\n",
    "\n",
    "    count = a.size()+b.size()-match*2;\n",
    "    return count; \n",
    "}\n",
    "```\n",
    "\n",
    "* hackerRank solution\n",
    "    * convert to ascii, put them in array, incremen respective counts of characters in each string \n",
    "    * subtract count of characters from each array. that is number of occurances. \n",
    "    * if occurs in both, then it becomes zero if occurs only in one then it gets counted. \n",
    "    \n",
    "```cpp\n",
    "\n",
    "int number_needed(string a, string b) {\n",
    "    int i,c[26]={0},c1[26]={};\n",
    "    for(i=0;i<a.length();i++)\n",
    "        {\n",
    "        if(97<=a[i]&&a[i]<=123)\n",
    "            c[a[i]-97]++;\n",
    "    }\n",
    "    for(i=0;i<b.length();i++)\n",
    "        {\n",
    "        if(97<=b[i]&&b[i]<=123)\n",
    "            c1[b[i]-97]++;\n",
    "    } \n",
    "    int s=0;\n",
    "    for(i=0;i<26;i++)\n",
    "    {\n",
    "        s=s+abs(c[i]-c1[i]);\n",
    "        \n",
    "    }   \n",
    "    \n",
    "    return (s);\n",
    "    \n",
    "}\n",
    "```"
   ]
  },
  {
   "cell_type": "markdown",
   "metadata": {},
   "source": [
    "#### Sherlock and the Valid String\n",
    "* valid if all characters of the string appear the same number of times\n",
    "* also valid if he can remove just  character at  index in the string, and the remaining characters will occur the same number of times.\n",
    "* Given a string , determine if it is valid. If so, return YES, otherwise return NO.\n",
    "\n",
    "\n",
    "* my solution \n",
    "\n",
    "```cpp\n",
    "string isValid(string s) {\n",
    "    unordered_map<char, int> freq; \n",
    "    unordered_map<int, int> freq_map;\n",
    "    string state = \"NO\";\n",
    "    for(const auto c: s){\n",
    "        freq[c]++;\n",
    "    }\n",
    "\n",
    "    for(const auto m: freq){\n",
    "        freq_map[m.second]++;\n",
    "    }\n",
    "\n",
    "    if(freq_map.size()==1){\n",
    "        state = \"YES\";\n",
    "    }else if(freq_map.size() == 2){\n",
    "        bool min = false; \n",
    "        for(auto c:freq_map ){\n",
    "            if(c.second ==1){min = true;}\n",
    "        }\n",
    "        if(min==true){state =\"YES\";}\n",
    "    }else{\n",
    "        state = \"NO\";\n",
    "    }  \n",
    "\n",
    "    return state; \n",
    "}\n",
    "```\n",
    "\n",
    "* hackerRank solution \n",
    "\n",
    "```cpp\n"
   ]
  },
  {
   "cell_type": "markdown",
   "metadata": {},
   "source": [
    "#### substrings\n",
    "* Method 1\n",
    "* we go through the string one letter by letter. then two letter by two letter and so on. \n",
    "* there are three loops \n",
    "    * the outermost loop picks starting character, \n",
    "    * mid loop considers all characters on right of the picked character as ending character of substring.\n",
    "    * The innermost loop prints characters from currently picked starting point to picked ending point.\n",
    "    \n",
    "```cpp\n",
    "void subStr(string s){\n",
    "    for(int len = 1; len <= s.size(); ++len){\n",
    "        for(int i = 0; i <= s.size()-len; ++i){\n",
    "            int j = i + len -1;\n",
    "            cout <<i<<\" \"<< j<<\" :\";\n",
    "            for(int k = i; k <=j; k++){\n",
    "                cout << s[k];\n",
    "            }\n",
    "            cout << endl; \n",
    "        }\n",
    "    }\n",
    "}\n",
    "```\n",
    "* method 2 \n",
    "\n",
    "```cpp\n",
    "void subString(string s, int n)  \n",
    "{ \n",
    "    // Pick starting point in outer loop \n",
    "    // and lengths of different strings for a given starting point \n",
    "    for (int i = 0; i < n; i++)  \n",
    "        for (int len = 1; len <= n - i; len++) \n",
    "            cout << s.substr(i, len) << endl; \n",
    "} \n",
    "```"
   ]
  },
  {
   "cell_type": "code",
   "execution_count": null,
   "metadata": {},
   "outputs": [],
   "source": []
  },
  {
   "cell_type": "markdown",
   "metadata": {},
   "source": [
    "## Trees "
   ]
  },
  {
   "cell_type": "code",
   "execution_count": null,
   "metadata": {},
   "outputs": [],
   "source": [
    "##### Number of ways to traverse an N-ary tree "
   ]
  }
 ],
 "metadata": {
  "kernelspec": {
   "display_name": "Python 3",
   "language": "python",
   "name": "python3"
  },
  "language_info": {
   "codemirror_mode": {
    "name": "ipython",
    "version": 3
   },
   "file_extension": ".py",
   "mimetype": "text/x-python",
   "name": "python",
   "nbconvert_exporter": "python",
   "pygments_lexer": "ipython3",
   "version": "3.6.7"
  }
 },
 "nbformat": 4,
 "nbformat_minor": 2
}
