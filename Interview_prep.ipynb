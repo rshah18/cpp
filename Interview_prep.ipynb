{
 "cells": [
  {
   "cell_type": "markdown",
   "metadata": {},
   "source": [
    "#### Best practices"
   ]
  },
  {
   "cell_type": "markdown",
   "metadata": {},
   "source": [
    "#### Data structures key points \n",
    "* Primitive types:\n",
    "    * Know how int, char, double, etc. are represented in memory and the primitive operations on them\n",
    "* Array: \n",
    "    * fast access for elements at an index, slow lookups (unsorted array), and insertions\n",
    "    * Be comfortable with iteration, resizing, partioning, merging, etc\n",
    "* Strings:\n",
    "    * Know how strings are represented in memory. \n",
    "    * Understand basic operators such as comparison, copying, matching, joining, splitting, etc\n",
    "* Lists:\n",
    "    * Understand trade-offs with respect to arrays. \n",
    "    * Become comfortable with iteration, insertion, deletion within singly linked and doubly linked list \n",
    "    * Know how to implement a list with dynamic allocation and arrays\n",
    "* Stack and queues \n",
    "    * Recognize where stack and queue semantics are applicable.\n",
    "    * Know array and linked list implementations\n",
    "* Binary trees:\n",
    "    * know about depth, height, leaves, search path, traversal sequences, successor/predecessor operations \n",
    "* Heaps:\n",
    "    * key benefits: 0(1) lookup find-max, 0(log(n)) insertions, and 0(log(n)) deletion and max. \n",
    "    * Node and array representations \n",
    "    * Min-heap variant \n",
    "* Hash tables:\n",
    "    * key benefits: 0(1) insert, delete, search, \n",
    "    * disadvantages: Not suitable for order-related queries, need for resizing, poor worst-case performance\n",
    "    * Understand implementation using arrays of buckets and collision chains. \n",
    "    * know hash functions for integers, strings, objects \n",
    "* Binary search trees:\n",
    "    * benefits: 0(log(n)) insertions, deletions, lookups, find-min, max, successor, predecessor when tree is height-balanced. \n",
    "    * Understand node fields, pointer implementation, \n",
    "    * Be familiar with notion of balance, and operations maintaining balance. \n",
    "    "
   ]
  },
  {
   "cell_type": "markdown",
   "metadata": {},
   "source": [
    "#### Google c++ style guide \n",
    "\n",
    "* Input arguments to functions are either values or const references, Non-const references are not allowed, except when required by exceptions. such as swap()\n",
    "* use pointers to pass output arguments to functions \n",
    "* Use deque<bool> rather than vector<bool> for boolean arrays, "
   ]
  },
  {
   "cell_type": "markdown",
   "metadata": {},
   "source": [
    "#### Algorithm type key points \n",
    "\n",
    "* Sorting: Uncover some structure by sorting the input \n",
    "* Recursion: \n",
    "    * if the structure of the input is defined in a recursive manner, design a recursive algorithm that follows the input definition\n",
    "* Divide-and-conquer:\n",
    "    * Divide the problem into two or more smaller independent subproblems and solve the original problem using solutions to the subproblems \n",
    "* Dynamic programming:\n",
    "    * Compute solutions for smaller instances of a given problem and use these solutions to construct a solution to the problem. \n",
    "    * cache for performance.\n",
    "* Greedy algorithm\n",
    "    * compute a solution in stages, making choices that are locally optimum at step, \n",
    "    * these choices are never undone \n",
    "* Invariants: \n",
    "    * Identify an invariant and use it to rule out potential solutions that are suboptimal/dominated by other solutions \n",
    "* Graph modeling: \n",
    "    * Describe the problem using a graph, and solve it using an existing graph algorithm \n"
   ]
  },
  {
   "cell_type": "markdown",
   "metadata": {},
   "source": [
    "#### C++ 11 constructs\n",
    "\n",
    "* The auto attribute assigns the type of a variable based on the initializer expression \n",
    "* The enhanced range-based for-loop allows for easy iterations over elements \n",
    "* the emplace_front, and emplace_back methods add new elements to the beginning and end of the container, \n",
    "    * they are more efficient than push_front and push_back. \n",
    "    * They also take variable number of arguments\n",
    "    * the emplace method is similar and applicable to containers where there is only one way to insert(stack or map)\n",
    "* The array type is similar to arrays but supports .size(), and boundary check. It doesnot support automatic and dynamic resizing \n",
    "* The tuple type implments an ordered set \n",
    "* Use lambdas, they are anonymous functions \n"
   ]
  },
  {
   "cell_type": "markdown",
   "metadata": {},
   "source": [
    "#### Best practices for interview code\n",
    "\n",
    "* make fields public rather than using getters and setters\n",
    "* careful with invalid inputs eg. null references, negative entries in an array that is supposed to be all non negative,\n",
    "    * input streams that are not of the expected type\n",
    "* When asked to implement a container class, dont provide generic solutions.  specialize the container to int \n",
    "* use shorter, less descriptive names "
   ]
  },
  {
   "cell_type": "code",
   "execution_count": null,
   "metadata": {},
   "outputs": [],
   "source": []
  }
 ],
 "metadata": {
  "kernelspec": {
   "display_name": "Python 3",
   "language": "python",
   "name": "python3"
  },
  "language_info": {
   "codemirror_mode": {
    "name": "ipython",
    "version": 3
   },
   "file_extension": ".py",
   "mimetype": "text/x-python",
   "name": "python",
   "nbconvert_exporter": "python",
   "pygments_lexer": "ipython3",
   "version": "3.7.3"
  }
 },
 "nbformat": 4,
 "nbformat_minor": 2
}
