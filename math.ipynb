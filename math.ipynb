{
 "cells": [
  {
   "cell_type": "markdown",
   "metadata": {},
   "source": [
    "## Math"
   ]
  },
  {
   "cell_type": "markdown",
   "metadata": {},
   "source": [
    "#### permuation and combination \n",
    "\n"
   ]
  },
  {
   "cell_type": "markdown",
   "metadata": {},
   "source": [
    "* When the order doesn't matter, it is a Combination.\n",
    "* When the order does matter it is a Permutation.\n",
    "* A Permutation is an ordered Combination.\n",
    "* \"Permutation ... Position\"\n",
    "\n",
    "1. Permutation with repetition \n",
    "    * When a thing has n different types ... we have n choices each time!\n",
    "    * choosing r of something that has n different types, the permutations are: n × n × ... (r times)= n^r\n",
    "    * there are 10 numbers to choose from (0,1,2,3,4,5,6,7,8,9) and we choose 3 of them:\n",
    "    10 × 10 × ... (3 times) = 10^3 = 1,000 permutations\n",
    "    * car plate example where number repetition is allowed \n",
    "    \n",
    "2. Permutation without repitition \n",
    "    * we have to reduce the number of available choices each time.\n",
    "    * our first choice has 16 possibilites, and our next choice has 15 possibilities, then 14, 13, 12, 11, ... etc. And the total permutations are: 16 × 15 × 14 × 13 × ... = 20,922,789,888,000\n",
    "    * Without repetition our choices get reduced each time.\n",
    "    * Car plate example when number repetition is not allowed \n",
    "    * formula; $$ n!(n-r)! $$\n",
    "    \n"
   ]
  },
  {
   "cell_type": "markdown",
   "metadata": {},
   "source": [
    "1. combination with repetition \n",
    "   * how many ways can we write 100 as sum of 4 numbers, $a+b+c+d = 100$\n",
    "       * 100 slots and 3 sepators, slots go from 0 to 100 \n",
    "       \n",
    "   * there are 6 people, can vote yes, no, and abstain \n",
    "       * how many possible outcomes are there \n",
    "   \n",
    "   * 5 friends, 8 flavors, how many different\n",
    "   * Look at How many anagrams are there for the set {A, A, A, N}.\n",
    "       (A, A, A, N), (A, A, N, A), (A, N, A, A), (N, A, A, A)\n",
    "       \n",
    "    "
   ]
  },
  {
   "cell_type": "markdown",
   "metadata": {},
   "source": [
    "* combination without repetition \n",
    "    * its like permutation but order doesnt matter \n",
    "    * 5 objects, 3 spots, we have $5*4*3$ many ways to arrange them \n",
    "    * but same 3 object could be arranged in many ways when order matters thats permutation \n",
    "    * combination takes those orders out \n",
    "    * think how many different ways those 3 spots be ordered. $3*2*1$ \n",
    "    * divide the total permutation by permutation of spots \n",
    "    * formula: $$\\frac {n!}{(n-r)!*r!} $$\n",
    "    \n",
    "    "
   ]
  },
  {
   "cell_type": "code",
   "execution_count": null,
   "metadata": {},
   "outputs": [],
   "source": [
    "* when solving think in terms of tree and count possible paths from leaf to root \n"
   ]
  },
  {
   "cell_type": "markdown",
   "metadata": {},
   "source": [
    "## Infinite series \n"
   ]
  },
  {
   "cell_type": "code",
   "execution_count": null,
   "metadata": {},
   "outputs": [],
   "source": []
  }
 ],
 "metadata": {
  "kernelspec": {
   "display_name": "C++14",
   "language": "C++14",
   "name": "xcpp14"
  },
  "language_info": {
   "codemirror_mode": "text/x-c++src",
   "file_extension": ".cpp",
   "mimetype": "text/x-c++src",
   "name": "c++",
   "version": "-std=c++14"
  }
 },
 "nbformat": 4,
 "nbformat_minor": 2
}
