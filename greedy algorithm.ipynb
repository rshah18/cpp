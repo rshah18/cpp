{
 "cells": [
  {
   "cell_type": "markdown",
   "metadata": {},
   "source": [
    "## Greedy algorithm"
   ]
  },
  {
   "cell_type": "markdown",
   "metadata": {},
   "source": [
    "* An algorithm that computes a solution in steps, at each step the algorithm makes a decision that is locally optimum and it never changes that decision \n",
    "* A greedy algorithm does not necessarily produce the optimum solution \n",
    "* it makes locally optimal choice at each stage with the hope of finding a global optimum \n",
    "* sometimes there are multiple greedy algorithms for a given problem, and only some of them are optimum.\n",
    "* Problems on which greedy approach works has two properties:\n",
    "    * greedy-choice property: A global optimum can be arrived by selecting a local optimum \n",
    "    * optimal structure: An optimal solution to the problem contains an optimal solution to subproblems\n",
    "* A greedy algorithm never reconsiders its choices that's the difference between dynamic programming and greedy algorithm \n",
    "* a greedy algorithm is often the right choice for an optimization problem where there's a natural set of choices to select from \n",
    "* it is easier to conceptualize a greedy algorithm recursively, and then implement it using iteration for higher performance. \n",
    "* even if the greeedy approach does not yield an optimum solution, it can give insights into the optimum algorithm or serve as heuristic\n",
    "* applications:\n",
    "    * Activity selection problem \n",
    "    * huffman coding \n",
    "    * Job sequencing problem \n",
    "    * Fractional knapsack problem\n",
    "    * prim's minimum spanning tree \n",
    "    "
   ]
  },
  {
   "cell_type": "markdown",
   "metadata": {},
   "source": [
    "#### Invariant\n",
    "* a common approach to designing an efficient algorithm is to use invariants. \n",
    "* an invariant is a condition that is true during execution of a program.\n",
    "* this condition may be on the values of the variables of the program, or on the control logic\n",
    "* A well chosen invariant can be used to rule out potential solutions that are supoptimal or dominated by other solutions \n",
    "* \n"
   ]
  },
  {
   "cell_type": "markdown",
   "metadata": {},
   "source": [
    "#### Activity selection problem \n",
    "* Given n activities with their start and finish times, select the maximum number of activities that can be performed by a single person, assuming that a person can only work on a single activity at a time \n",
    "    activty :  a1 : a2: a3;\n",
    "    start time: 12: 10: 20\n",
    "    end time; 25: 20: 30\n",
    "* greedy method:\n",
    "    * sort the activities according to their finishing time \n",
    "    * select the first activity from the sorted array and print it \n",
    "    * do following for remaining activities in the sorted array\n",
    "        * if the start time of this activity is greater than or equal to the finish time of previously selected activity then select this activity and print it\n",
    "        \n",
    "\n",
    "        "
   ]
  },
  {
   "cell_type": "code",
   "execution_count": null,
   "metadata": {},
   "outputs": [],
   "source": []
  }
 ],
 "metadata": {
  "kernelspec": {
   "display_name": "C++14",
   "language": "C++14",
   "name": "xcpp14"
  },
  "language_info": {
   "codemirror_mode": "text/x-c++src",
   "file_extension": ".cpp",
   "mimetype": "text/x-c++src",
   "name": "c++",
   "version": "-std=c++14"
  }
 },
 "nbformat": 4,
 "nbformat_minor": 2
}
