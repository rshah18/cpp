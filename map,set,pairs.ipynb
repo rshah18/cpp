{
 "cells": [
  {
   "cell_type": "markdown",
   "metadata": {},
   "source": [
    "## Pair \n",
    "\n",
    "* defined in ```<utility>``` header consisting of two data elements or objects.\n",
    "* The first element is referenced as ‘first’ and the second element as ‘second’ and the order is fixed (first, second).\n",
    "* Pair provides a way to store two heterogeneous objects as a single unit.\n",
    "* Pair provides a way to store two heterogeneous objects as a single unit.\n",
    "* The array of objects allocated in a map or hash_map are of type ‘pair’ by default in which all the ‘first’ elements are unique keys associated with their ‘second’ value objects.\n",
    "* To access the elements, we use variable name followed by dot operator followed by the keyword first or second.\n",
    "* If not initialized, the first value of the pair gets automatically initialized.\n",
    "* For given two pairs say pair1 and pair2, the comparison operator compares the first value and second value of those two pairs\n",
    "* For given two pairs say pair1 and pair2, the != operator compares the first values of those two pairs i.e. if pair1.first is equal to pair2.first or not, if they are equal then it checks the second values of both.\n",
    "* For given two pairs say pair1 and pair2, the =, >, can be used with pairs as well. It returns 0 or 1 by only comparing the first value of the pair.\n",
    "* swap : For two given pairs say pair1 and pair2 of same type, swap function will swap the pair1.first with pair2.first and pair1.second with pair2.second."
   ]
  },
  {
   "cell_type": "markdown",
   "metadata": {},
   "source": [
    "```cpp\n",
    "    pair <int, char> PAIR1 ; \n",
    "    pair <string,double> PAIR2 (\"GeeksForGeeks\", 1.23); \n",
    "    g2 = make_pair(1, 'a');\n",
    "    PAIR3 = make_pair (\"GeeksForGeeks is Best\",4.56); \n",
    "\n",
    "    pair1.swap(pair2) ;\n",
    "  \n",
    "    PAIR1.first = 100; \n",
    "    PAIR1.second = 'G' ; \n",
    "  \n",
    "    cout << PAIR1.first << \" \" ; \n",
    "    cout << PAIR1.second << endl ; \n",
    "```"
   ]
  },
  {
   "cell_type": "markdown",
   "metadata": {},
   "source": [
    "## Map "
   ]
  },
  {
   "cell_type": "markdown",
   "metadata": {},
   "source": [
    "* Map is implemented as balanced tree structure that is why it is possible to maintain an order between the elements (by specific tree traversal).\n",
    "* it is a ordered in terms of keys \n",
    "*  Time complexity of map operations is O(Log n) while for unordered_set, it is O(1) on average.\n",
    "* Each element has a key value and a mapped value.\n",
    "* No two mapped values can have same key values.\n",
    "* map_name.count(key k)returns 1 if key is present \n",
    "* find() is a built-in function in C++ STL which returns an iterator or a constant iterator that refers to the position where the key is present in the map. If the key is not present in the map container, it returns an iterator or a constant iterator which refers to map.end().\n",
    "* map_name.upper_bound(key): returns an iterator pointing to the immediate next element which is just greater than k. \n",
    "* at, and subscript work with map but not multimap \n",
    "* multimap allows duplicates \n",
    "* find works with multimap \n",
    "* insert returns a pair with first value pointing to item or its duplicate and second as true or false \n",
    "* find returns an iterator that can be used with erase \n",
    "```cpp\n",
    "    //declare \n",
    "    map<int, int> quiz = {{1,5}, {4,6}, {3,9}}; \n",
    "\n",
    "    \n",
    "    // insert elements \n",
    "    quiz.insert(pair<int, int>(10,40)); \n",
    "    quiz.insert(pair<int, int>(2,6));\n",
    "    quiz.insert(pair<int, int>(5,6)); \n",
    "    quiz.insert({6,7})\n",
    "\n",
    "    \n",
    "    //assign elements \n",
    "    map<int, int>::iterator itr; \n",
    "    for(itr = quiz.begin(); itr != quiz.end(); ++itr){\n",
    "        cout << '\\t' << itr->first<<'\\t'<<itr->second << endl; \n",
    "    }\n",
    "    \n",
    "    //copy to another map \n",
    "    map<int, int> quiz2 (quiz.begin(), quiz.end()); \n",
    "\n",
    "    for(itr = quiz2.begin(); itr != quiz2.end(); ++itr){\n",
    "        cout << '\\t' << itr->first<<'\\t'<<itr->second << endl; \n",
    "    }\n",
    "\n",
    "    // insert \n",
    "    map<int, string> gk; \n",
    "    gk.insert({1,\"taj\"});\n",
    "    gk.insert({2, \"great wall\"});\n",
    "    gk.insert({3,\"Rio\"});\n",
    "```"
   ]
  },
  {
   "cell_type": "markdown",
   "metadata": {},
   "source": [
    "## Unordered_map \n",
    "\n",
    "* Internally unordered_map is implemented using Hash Table,\n",
    "* map (like set) is an ordered sequence of unique keys whereas in unordered_map key can be stored in any order, so unordered.\n",
    "* the key provided to map are hashed into indices of hash table that is why performance of data structure depends on hash function a lot \n",
    "* but on an average the cost of search, insert and delete from hash table is O(1).\n",
    "* find returns iterator to the item or returns iterator to last object \n",
    "\n",
    "```cpp\n",
    "\n",
    "    unordered_map<string, int> umap; \n",
    "    umap[\"iron man\"] = 1; \n",
    "    umap[\"captain America\"] = 2;\n",
    "    umap[\"spider man\"] = 3; \n",
    "\n",
    "    for(auto s: umap){\n",
    "        cout << s.first << \"\\t\"<< s.second << endl; \n",
    "    }\n",
    "\n",
    "    unordered_map<string, double> numMap;\n",
    "    numMap[\"pi\"] = 3.14;\n",
    "    numMap[\"root1\"] = 1.414;\n",
    "    numMap[\"root2\"] = 1.7; \n",
    "    numMap.insert(make_pair(\"e\", 2.718));\n",
    "\n",
    "    string key = \"pi\";\n",
    "\n",
    "    if(numMap.find(key) == numMap.end()){cout<<key<<\" not found\";}\n",
    "    else{cout << key << \" found\" << endl; }\n",
    "\n",
    "    cout<<numMap.bucket_size(\"pi\");\n",
    "```"
   ]
  },
  {
   "cell_type": "markdown",
   "metadata": {},
   "source": [
    "* C++ program to find freq of every word using unordered_map \n",
    "```cpp\n",
    "    // declaring map of <string, int> type, each word \n",
    "    // is mapped to its frequency \n",
    "    unordered_map<string, int> wordFreq; \n",
    "  \n",
    "    // breaking input into word using string stream \n",
    "    stringstream ss(str);  // Used for breaking words \n",
    "    string word; // To store individual words \n",
    "    while (ss >> word) \n",
    "        wordFreq[word]++; \n",
    "  \n",
    "    // now iterating over word, freq pair and printing \n",
    "    // them in <, > format \n",
    "    unordered_map<string, int>:: iterator p; \n",
    "    for (p = wordFreq.begin(); p != wordFreq.end(); p++) \n",
    "        cout << \"(\" << p->first << \", \" << p->second << \")\\n\"; \n",
    "```"
   ]
  },
  {
   "cell_type": "markdown",
   "metadata": {},
   "source": [
    "## Set"
   ]
  },
  {
   "cell_type": "markdown",
   "metadata": {},
   "source": [
    "* It holds a sorted set of elements \n",
    "* it only holds unique element\n",
    "* multiset class allows duplicates \n",
    "* unordered_set class does not sort and instead provides keys for faster access \n",
    "* There is also an unordered_multiset\n",
    "* \n",
    "* Sets are a type of associative containers in which each element has to be unique, because the value of the element identifies it.\n",
    "* The value of the element cannot be modified once it is added to the set, though it is possible to remove and add the modified value of that element.\n",
    "* ```set.insert(val)``` returns a pair, first element points to either new element or duplicate element, second value returns true or false \n",
    "* find returns an iterator to the item if it exists or to the end \n",
    "\n",
    "\n",
    "* methods:\n",
    "    * begin() – Returns an iterator to the first element in the set.\n",
    "    * end() – Returns an iterator to the theoretical element that follows last element in the set.\n",
    "    * size() – Returns the number of elements in the set.\n",
    "    * max_size() – Returns the maximum number of elements that the set can hold.\n",
    "    * empty() – Returns whether the set is empty.\n",
    "    * insert()\n",
    "    * erase()\n",
    "            \n",
    "           "
   ]
  },
  {
   "cell_type": "code",
   "execution_count": null,
   "metadata": {},
   "outputs": [],
   "source": []
  }
 ],
 "metadata": {
  "kernelspec": {
   "display_name": "C++14",
   "language": "C++14",
   "name": "xcpp14"
  },
  "language_info": {
   "codemirror_mode": "text/x-c++src",
   "file_extension": ".cpp",
   "mimetype": "text/x-c++src",
   "name": "c++",
   "version": "-std=c++14"
  }
 },
 "nbformat": 4,
 "nbformat_minor": 2
}
