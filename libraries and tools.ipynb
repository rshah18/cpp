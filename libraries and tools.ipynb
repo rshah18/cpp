{
 "cells": [
  {
   "cell_type": "markdown",
   "metadata": {},
   "source": [
    "* time (<time.h>) returns the current time \n",
    "* srand (<stdlib.h> initializes C's random number generator \n",
    "* rand (<stdlib.h> produces an apparently random number each time it is called \n",
    "    * use rand() % num, to get a value between 0 and num \n",
    "* <stdlib.h> header declares three memory allocation functions \n",
    "    * malloc - allocates a block of memory but doesn't initialize it\n",
    "    * calloc - allocates a block of memory and clears it\n",
    "    * realloc - resizes a previously allocated block of memory\n",
    "* these functions return a value of type (void * )\n",
    "* if a memory allocation function can't locate a memory block of the requested size, it returns a null pointer\n",
    "\n",
    "```cpp\n",
    "p = malloc(1000);\n",
    "\n",
    "```\n"
   ]
  },
  {
   "cell_type": "markdown",
   "metadata": {},
   "source": [
    "* auto keyword declares a variable in automatic storage \n",
    "    but after c++ 11, it is used to provide type inference\n",
    "* "
   ]
  },
  {
   "cell_type": "markdown",
   "metadata": {},
   "source": [
    "* const char *ptr : This is a pointer to a constant character. You cannot change the value pointed by ptr, but you can change the pointer itself. “const char *” is a (non-const) pointer to a const char.\n",
    "* char *const ptr : This is a constant pointer to non-constant character. You cannot change the pointer p, but can change the value pointed by ptr.\n",
    "* char *const ptr : This is a constant pointer to non-constant character. You cannot change the pointer p, but can change the value pointed by ptr."
   ]
  },
  {
   "cell_type": "markdown",
   "metadata": {},
   "source": [
    "* C++ doesn't allow to define a function inside another function, but you can do so using a lambda\n",
    "* Static variables in a Function: When a variable is declared as static, space for it gets allocated for the lifetime of the program. Even if the function is called multiple times, space for the static variable is allocated only once and the value of variable in the previous call gets carried through the next function call."
   ]
  },
  {
   "cell_type": "markdown",
   "metadata": {},
   "source": [
    "using reverse iteror \n",
    "```cpp\n",
    "itv = v.begin();\n",
    "while(itv != v.end()) {\n",
    "    cout << *itv << ' ';\n",
    "    itv++;\n",
    "}\n",
    "```"
   ]
  },
  {
   "cell_type": "code",
   "execution_count": null,
   "metadata": {},
   "outputs": [],
   "source": []
  }
 ],
 "metadata": {
  "kernelspec": {
   "display_name": "C++14",
   "language": "C++14",
   "name": "xcpp14"
  },
  "language_info": {
   "codemirror_mode": "text/x-c++src",
   "file_extension": ".cpp",
   "mimetype": "text/x-c++src",
   "name": "c++",
   "version": "-std=c++14"
  }
 },
 "nbformat": 4,
 "nbformat_minor": 2
}
