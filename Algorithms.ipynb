{
 "cells": [
  {
   "cell_type": "markdown",
   "metadata": {},
   "source": [
    "# Algorithms\n",
    "* Greedy algorithms ()\n",
    "* Dynamic programming ()\n",
    "* Divide and conquer \n",
    "* Backtracking \n",
    "* Branch & Bound \n",
    "\n",
    "* Type:\n",
    "    * Searchin algorithms ()\n",
    "    * Sorting algorithms ()\n",
    "    * Graph algorithms ()\n",
    "    * Bit algorithms \n",
    "    * Pattern searching \n",
    "    * Geometric algorithm \n",
    "    * Mathematical algorithm  \n",
    "    * Randomized algorithm \n",
    "    * Game theory "
   ]
  },
  {
   "cell_type": "code",
   "execution_count": null,
   "metadata": {},
   "outputs": [],
   "source": []
  }
 ],
 "metadata": {
  "kernelspec": {
   "display_name": "C++14",
   "language": "C++14",
   "name": "xcpp14"
  },
  "language_info": {
   "codemirror_mode": "text/x-c++src",
   "file_extension": ".cpp",
   "mimetype": "text/x-c++src",
   "name": "c++",
   "version": "-std=c++14"
  }
 },
 "nbformat": 4,
 "nbformat_minor": 2
}
