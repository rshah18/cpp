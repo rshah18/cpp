{
 "cells": [
  {
   "cell_type": "markdown",
   "metadata": {},
   "source": [
    "## Unit Testing"
   ]
  },
  {
   "cell_type": "markdown",
   "metadata": {},
   "source": [
    "#### Levels of Testing \n",
    "\n",
    "* Unit Testing: Testing at the function level. This is generally the lowest level of testing and most comprehensive \n",
    "* Component Testing: Testing is at the library and compiled binary level testing external interfaces of these components \n",
    "    * Components are essentially collection of functions \n",
    "* System Testing: Tests the external interfaces of a system which is a collection of sub-systems\n",
    "    * systems can be collection of components and subsystems \n",
    "* Performance Testing: Testing done at sub-system and system levels to verify timing and resource usages are acceptable \n",
    "    * tests for response time and resource utilization such as memory, cpu, disk etc. \n",
    "    "
   ]
  },
  {
   "cell_type": "markdown",
   "metadata": {},
   "source": [
    "#### Unit Testing \n",
    "* Tests individual functions in a code\n",
    "* A test should be written for each test case for a function (all positive and negative test cases)\n",
    "* Groups of tests can be combined into test suites for better organization \n",
    "* Executes in the development environment rather than the production environment \n",
    "* Execution of the tests should be automated \n",
    "    * unit test builds and executes on click of a button "
   ]
  },
  {
   "cell_type": "markdown",
   "metadata": {},
   "source": [
    "* Unit test performs three steps:\n",
    "    * Setup step : creates a test sample \n",
    "    * Action step : where product code is called\n",
    "    * Assert step : the test that validates the result of the action "
   ]
  },
  {
   "cell_type": "markdown",
   "metadata": {},
   "source": [
    "## Test driven Development \n",
    "\n",
    "* A process where the developer takes personal responsibility for the quality of their code \n",
    "* Unit tests are written before the production code \n",
    "* Dont write all the tests or production code at once\n",
    "* Test and production code are both written together in small bits of functionality \n"
   ]
  },
  {
   "cell_type": "markdown",
   "metadata": {},
   "source": [
    "* Tdd has the following phases in its work flow \n",
    "    * red phase: \n",
    "        * write a failing unit test for next bit of functionality you want to implement in the production code \n",
    "    * green phase:  \n",
    "        * write just enought production code to make that test pass \n",
    "    * Refactor phase: \n",
    "        * you clean up the unit tests and the production code to remove any duplication and make sure the code follows the coding statndards \n",
    "* Repeat the process for all the functionality you want to implement \n",
    "    "
   ]
  },
  {
   "cell_type": "markdown",
   "metadata": {},
   "source": [
    "#### Uncle bob's 3 laws of TDD\n",
    "* You may not write any production code until you have written a failing unit test \n",
    "    * it ensures you wrote the unit test properly \n",
    "* you may not write more of a unit test than is sufficient to fail. and not compiling is failing\n",
    "* You may not write more production code than is sufficient to pass the currently failing unit test \n",
    "* You are always the running the unit test to verify nothing is broken\n",
    "* If something does get broken you can easily back the changes that cause the problem because you implemented them \n"
   ]
  },
  {
   "cell_type": "markdown",
   "metadata": {},
   "source": [
    "```cpp\n",
    "#include<gtest/gtest.h>\n",
    "\n",
    "\n",
    "```"
   ]
  },
  {
   "cell_type": "markdown",
   "metadata": {},
   "source": [
    "#### Google Test \n",
    "\n",
    "* C++ unit testing framework \n",
    "* Provides ability to create tests, test cases and test suites \n",
    "* Provides several type of assert macros for generating unit test failure based on boolean, binary, and string comparisons \n",
    "* has command line parameters to help filter which tests are executed and in what order \n"
   ]
  },
  {
   "cell_type": "markdown",
   "metadata": {},
   "source": [
    "## the TEST macro\n",
    "\n",
    "```cpp\n",
    "TEST(TestCaseName, TestName)\n",
    "{\n",
    "    EXPECT_EQ(1,1)\n",
    "}\n",
    "```\n",
    "\n",
    "* The test macro is the simplest way to create a test \n",
    "* It defines a specific test for a specific test case \n",
    "* Tests from the same test cases will be grouped together in the execution output \n",
    "* Test case and test names should be valid c++ identifiers and should not use underscore\n",
    "\n"
   ]
  },
  {
   "cell_type": "markdown",
   "metadata": {},
   "source": [
    "* Google test suites provide test fixtures or test suites \n",
    "    * Allows for common setup and teardown between tests \n",
    "    * Test fixtures are classes derived from testing::Test \n",
    "    * an instance of this class is created for each test case \n",
    "    * Each test fixture class can implement virtual SetUp and TearDown functions which will be called between each test \n",
    "    * Tests that are using a test fixture use the TEST_F macro rather than TEST and pass in the test fixture classname and the test name ```(TEST_F(TestFixtureClass, TestName)```\n",
    "    * Can use test fixtures constructor/destructor instead of SetUp/TearDown since new instance is created for each test \n",
    "    * Constructor/destructor is preferable as it allows for const member variables and automatic calls to base class constructors \n",
    "    * SetUp/TearDown functions may still be necessary if you may throw an exception during cleanup as this leads to undefined behavior in destructors "
   ]
  },
  {
   "cell_type": "code",
   "execution_count": null,
   "metadata": {},
   "outputs": [],
   "source": []
  },
  {
   "cell_type": "code",
   "execution_count": null,
   "metadata": {},
   "outputs": [],
   "source": []
  }
 ],
 "metadata": {
  "kernelspec": {
   "display_name": "C++14",
   "language": "C++14",
   "name": "xcpp14"
  },
  "language_info": {
   "codemirror_mode": "text/x-c++src",
   "file_extension": ".cpp",
   "mimetype": "text/x-c++src",
   "name": "c++",
   "version": "-std=c++14"
  }
 },
 "nbformat": 4,
 "nbformat_minor": 2
}
